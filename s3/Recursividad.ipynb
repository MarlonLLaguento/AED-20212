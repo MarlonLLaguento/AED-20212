{
  "nbformat": 4,
  "nbformat_minor": 0,
  "metadata": {
    "colab": {
      "name": "Recursividad.ipynb",
      "provenance": [],
      "authorship_tag": "ABX9TyMMk3xTFHtvtfuvDBku86X2"
    },
    "kernelspec": {
      "name": "python3",
      "display_name": "Python 3"
    },
    "language_info": {
      "name": "python"
    }
  },
  "cells": [
    {
      "cell_type": "markdown",
      "metadata": {
        "id": "M0XELJO_Xux6"
      },
      "source": [
        "#Contenido Temático\n",
        "* Recursividad\n"
      ]
    },
    {
      "cell_type": "markdown",
      "metadata": {
        "id": "_3X69RmpX1-p"
      },
      "source": [
        "##Recursividad\n",
        "###Ejemplo #1\n",
        "```\n",
        "\n",
        "Para n=6\n",
        "6    5   4    3    2    1\n",
        "n, n-1, n-2, n-3, n-4, n-5\n",
        "```"
      ]
    },
    {
      "cell_type": "code",
      "metadata": {
        "colab": {
          "base_uri": "https://localhost:8080/"
        },
        "id": "fAtM-jz1XqN8",
        "outputId": "cd698c72-6056-42df-cba0-7468a8415f23"
      },
      "source": [
        "%%writefile recursividadIDA.cpp\n",
        "#include <iostream>\n",
        "using namespace std;\n",
        "void funcion(int n){\n",
        "    if(n>0){\n",
        "    cout<<n;//ida\n",
        "    funcion(n-1);   \n",
        "    }    \n",
        "}\n",
        "\n",
        "int main(){\n",
        "    funcion(4);\n",
        "\n",
        "}"
      ],
      "execution_count": null,
      "outputs": [
        {
          "output_type": "stream",
          "text": [
            "Overwriting recursividadIDA.cpp\n"
          ],
          "name": "stdout"
        }
      ]
    },
    {
      "cell_type": "code",
      "metadata": {
        "colab": {
          "base_uri": "https://localhost:8080/"
        },
        "id": "a37N7fBTY36E",
        "outputId": "796e9a87-5649-4ac4-e473-e05eba63a67e"
      },
      "source": [
        "!g++ recursividadIDA.cpp && ./a.out"
      ],
      "execution_count": null,
      "outputs": [
        {
          "output_type": "stream",
          "text": [
            "4321"
          ],
          "name": "stdout"
        }
      ]
    },
    {
      "cell_type": "markdown",
      "metadata": {
        "id": "61eEyYAoPnTy"
      },
      "source": [
        "###Ejemplo #2\n",
        "```\n",
        "Para n=6\n",
        "1    2   3    4    5    6\n",
        "n, n+1, n+2, n+3, n+4, n+5\n",
        "```\n",
        "\n"
      ]
    },
    {
      "cell_type": "code",
      "metadata": {
        "colab": {
          "base_uri": "https://localhost:8080/"
        },
        "id": "-0Ir8tplY-rH",
        "outputId": "9a095a32-60ab-477f-e63e-d5283f8cdb87"
      },
      "source": [
        "%%writefile recursividad.cpp\n",
        "#include <iostream>\n",
        "using namespace std;\n",
        "void funcion(int n){\n",
        "    if(n>0){    \n",
        "    funcion(n-1);\n",
        "    cout<<n;//vuelta\n",
        "    }    \n",
        "}\n",
        "\n",
        "int main(){\n",
        "    funcion(4);\n",
        "\n",
        "}"
      ],
      "execution_count": null,
      "outputs": [
        {
          "output_type": "stream",
          "text": [
            "Overwriting recursividad.cpp\n"
          ],
          "name": "stdout"
        }
      ]
    },
    {
      "cell_type": "code",
      "metadata": {
        "colab": {
          "base_uri": "https://localhost:8080/"
        },
        "id": "nbC6ZsNrcJek",
        "outputId": "e6e98ea6-5d08-4081-8dd5-93e055087cd6"
      },
      "source": [
        "!g++ recursividad.cpp && ./a.out"
      ],
      "execution_count": null,
      "outputs": [
        {
          "output_type": "stream",
          "text": [
            "1234"
          ],
          "name": "stdout"
        }
      ]
    },
    {
      "cell_type": "markdown",
      "metadata": {
        "id": "KqmZEUgYP6e6"
      },
      "source": [
        "###Ejemplo #3: Recorriendo un vector"
      ]
    },
    {
      "cell_type": "code",
      "metadata": {
        "colab": {
          "base_uri": "https://localhost:8080/"
        },
        "id": "_pDt3sJOcLvX",
        "outputId": "5bab5331-0df9-4f6d-fa57-f49137bbf783"
      },
      "source": [
        "%%writefile recursividad.cpp\n",
        "#include <iostream>\n",
        "#include <vector>\n",
        "#include <cstdlib>\n",
        "#include <ctime>\n",
        "#include <algorithm>\n",
        "using namespace std;\n",
        "vector<int> numeros;\n",
        "void lectura(int n){\n",
        "    if(n>0){ \n",
        "    cout<<numeros.at(n)<<\" \";       \n",
        "    lectura(n-1);    \n",
        "    }    \n",
        "}\n",
        "\n",
        "int main(){\n",
        "    srand(time(0));\n",
        "    for(size_t i=0;i<50;++i)\n",
        "      numeros.push_back(rand()%200);\n",
        "    sort(numeros.begin(),numeros.end(),[](int a, int b){return a<b;});\n",
        "    lectura(numeros.size()-1);\n",
        "\n",
        "}"
      ],
      "execution_count": null,
      "outputs": [
        {
          "output_type": "stream",
          "text": [
            "Overwriting recursividad.cpp\n"
          ],
          "name": "stdout"
        }
      ]
    },
    {
      "cell_type": "code",
      "metadata": {
        "colab": {
          "base_uri": "https://localhost:8080/"
        },
        "id": "3fDKWTnndi0b",
        "outputId": "fb7ea9c2-9a92-450c-8790-b8e86c91ed6b"
      },
      "source": [
        "!g++ recursividad.cpp && ./a.out"
      ],
      "execution_count": null,
      "outputs": [
        {
          "output_type": "stream",
          "text": [
            "192 190 190 189 184 181 178 169 166 166 166 163 160 148 145 142 141 140 138 132 127 127 126 125 124 120 104 96 87 87 84 77 76 76 76 66 66 66 63 47 45 42 41 41 39 37 19 8 2 "
          ],
          "name": "stdout"
        }
      ]
    },
    {
      "cell_type": "markdown",
      "metadata": {
        "id": "-xaeyxPfQEbY"
      },
      "source": [
        "###Ejemplo #4: factorial de un número"
      ]
    },
    {
      "cell_type": "code",
      "metadata": {
        "colab": {
          "base_uri": "https://localhost:8080/"
        },
        "id": "DpomIprVdk-9",
        "outputId": "54de73e2-de3f-4a95-b2f9-ad7e873bbeb6"
      },
      "source": [
        "%%writefile factorial.cpp\n",
        "#include <iostream>\n",
        "using namespace std;\n",
        "\n",
        "long factorial(long n){  \n",
        "\tif(n == 1) {\n",
        "      cout<<n<<\"=\";  \n",
        "      return 1;\n",
        "  }\n",
        "\telse {\n",
        "      cout<<n<<\"*\";\n",
        "     return n * factorial(n-1);  \n",
        "  }\n",
        "  \n",
        "}\n",
        "int main(){\n",
        "\tcout<< \"Factorial: \"<< factorial(5);\n",
        "\treturn 0;\n",
        "}"
      ],
      "execution_count": null,
      "outputs": [
        {
          "output_type": "stream",
          "text": [
            "Overwriting factorial.cpp\n"
          ],
          "name": "stdout"
        }
      ]
    },
    {
      "cell_type": "code",
      "metadata": {
        "colab": {
          "base_uri": "https://localhost:8080/"
        },
        "id": "Tp1tMKzKhhYN",
        "outputId": "bfa34568-a813-472f-ad23-ac1be5f71260"
      },
      "source": [
        "!g++ factorial.cpp && ./a.out"
      ],
      "execution_count": null,
      "outputs": [
        {
          "output_type": "stream",
          "text": [
            "Factorial: 5*4*3*2*1=120"
          ],
          "name": "stdout"
        }
      ]
    },
    {
      "cell_type": "markdown",
      "metadata": {
        "id": "AhpRJ4M0QK1e"
      },
      "source": [
        "###Ejemplo #5: serie fibonacci"
      ]
    },
    {
      "cell_type": "code",
      "metadata": {
        "colab": {
          "base_uri": "https://localhost:8080/"
        },
        "id": "0DmXrNl2i0nt",
        "outputId": "8f9a9bbe-41dd-44e9-9a03-1c11c6a0a462"
      },
      "source": [
        "%%writefile fibo.hpp\n",
        "#ifndef __FIBO_HPP__\n",
        "#define __FIBO_HPP__\n",
        "int fibonacci(int);\n",
        "#endif"
      ],
      "execution_count": null,
      "outputs": [
        {
          "output_type": "stream",
          "text": [
            "Writing fibo.hpp\n"
          ],
          "name": "stdout"
        }
      ]
    },
    {
      "cell_type": "code",
      "metadata": {
        "colab": {
          "base_uri": "https://localhost:8080/"
        },
        "id": "-kyHnN94hk6c",
        "outputId": "027187b7-42d7-4320-e623-fe088448d920"
      },
      "source": [
        "%%writefile fibo.cpp\n",
        "#include<iostream>\n",
        "#include \"fibo.hpp\"\n",
        "using namespace std;\n",
        "int main()\n",
        "{\n",
        "  int d = 0;\n",
        "  cout << \" tamanio de la serie:\",cin >> d;\n",
        "  for(size_t i = 1; i <= d; ++i)\n",
        "  cout << fibonacci(i) << \" \";\n",
        "  return 0;\n",
        "}\n",
        "\n",
        "int fibonacci(int n)\n",
        "{\n",
        "  if(n == 1 || n == 2) \n",
        "    return 1;\n",
        "  return fibonacci(n - 1) + fibonacci(n - 2);\n",
        "}"
      ],
      "execution_count": null,
      "outputs": [
        {
          "output_type": "stream",
          "text": [
            "Writing fibo.cpp\n"
          ],
          "name": "stdout"
        }
      ]
    },
    {
      "cell_type": "code",
      "metadata": {
        "colab": {
          "base_uri": "https://localhost:8080/"
        },
        "id": "qzoFjxpzjNVC",
        "outputId": "1f8516ad-af01-40e7-ef09-d11f656f6464"
      },
      "source": [
        "!g++ fibo.cpp && ./a.out"
      ],
      "execution_count": null,
      "outputs": [
        {
          "output_type": "stream",
          "text": [
            " tamanio de la serie:6\n",
            "1 1 2 3 5 8 "
          ],
          "name": "stdout"
        }
      ]
    },
    {
      "cell_type": "markdown",
      "metadata": {
        "id": "JipNcxhOQTOa"
      },
      "source": [
        "###Ejemplo #6: graficando para n=5\n"
      ]
    },
    {
      "cell_type": "markdown",
      "metadata": {
        "id": "lDosoJIykNm6"
      },
      "source": [
        "```\n",
        "* * * * *\n",
        "* * * *\n",
        "* * *\n",
        "* *\n",
        "*\n",
        "```\n"
      ]
    },
    {
      "cell_type": "code",
      "metadata": {
        "colab": {
          "base_uri": "https://localhost:8080/"
        },
        "id": "xQwYllHCkM9D",
        "outputId": "afa571a5-fac2-4d8a-8137-26cf9dc312e9"
      },
      "source": [
        "%%writefile solucion.cpp\n",
        "#include<bits/stdc++.h>\n",
        "using namespace std;\n",
        "void columnas(int n){\n",
        "    if(n < 1) return;\n",
        "    else cout << \"*\"; columnas(n - 1);\n",
        "}\n",
        "void filas(int n){\n",
        "    if(n <= 0) return;\n",
        "    columnas(n); cout <<endl;\n",
        "    filas(n -1); \n",
        "}\n",
        "int main() {\n",
        "    int n;\n",
        "    cin >> n;\n",
        "    filas(n);\n",
        "    return 0;\n",
        "}\n",
        "\n"
      ],
      "execution_count": null,
      "outputs": [
        {
          "output_type": "stream",
          "text": [
            "Writing solucion.cpp\n"
          ],
          "name": "stdout"
        }
      ]
    },
    {
      "cell_type": "code",
      "metadata": {
        "colab": {
          "base_uri": "https://localhost:8080/"
        },
        "id": "ie5GaInSmyYa",
        "outputId": "dfe55f60-e17d-46f6-e2c6-792ee839ecd6"
      },
      "source": [
        "!g++ solucion.cpp && ./a.out"
      ],
      "execution_count": null,
      "outputs": [
        {
          "output_type": "stream",
          "text": [
            "6\n",
            "******\n",
            "*****\n",
            "****\n",
            "***\n",
            "**\n",
            "*\n"
          ],
          "name": "stdout"
        }
      ]
    },
    {
      "cell_type": "markdown",
      "metadata": {
        "id": "tE1tHeNoQsgZ"
      },
      "source": [
        "###Caso Práctico\n",
        "> En un empresa de corte de melamine, desea conocer las dimensiones que quedarían al realizar n cortes por el lado mas largo restante.Por ejemplo:\n",
        "Plancha de melamine: 300 cm X 200 cm\n",
        "cantidad de cortes: 3\n",
        "* Corte 1: 150 X 200\n",
        "* Corte 2: 150 X 100\n",
        "* Corte 3: 75 X 100"
      ]
    },
    {
      "cell_type": "code",
      "metadata": {
        "colab": {
          "base_uri": "https://localhost:8080/"
        },
        "id": "np_bHDhAm2kt",
        "outputId": "84bd60a7-31e3-4c2f-c6c6-576a05d173c6"
      },
      "source": [
        "%%writefile doblar.cpp\n",
        "#include<bits/stdc++.h>\n",
        "using namecspace std;\n",
        "void cortar(float &n, float &m, int i){\n",
        "    cout<<n<<\" \"<<m<<endl;\n",
        "    if(i <= 0) return;\n",
        "\n",
        "    else{\n",
        "          if(i % 2 == 0) \n",
        "              n /= 2;\n",
        "          else \n",
        "            m /= 2;\n",
        "        cortar(n, m, i - 1);\n",
        "    }\n",
        "}\n",
        "\n",
        "\n",
        "void doblar(float &n, float &m, int i){\n",
        "    cout<<n<<\" \"<<m<<endl;\n",
        "    if(i <= 0) return;\n",
        "\n",
        "    else{\n",
        "        if(i % 2 == 0) n /= 2;\n",
        "    else m /= 2;\n",
        "        doblar(n, m, i - 1);\n",
        "    }\n",
        "}\n",
        "\n",
        "int main() {\n",
        "    float n, m;\n",
        "    int i;\n",
        "    cin >> n >> m >> i;\n",
        "    cortar(n,m,i);\n",
        "    //cout << n << \" \" << m;\n",
        "    return 0;\n",
        "\n",
        "}"
      ],
      "execution_count": null,
      "outputs": [
        {
          "output_type": "stream",
          "text": [
            "Overwriting doblar.cpp\n"
          ],
          "name": "stdout"
        }
      ]
    },
    {
      "cell_type": "code",
      "metadata": {
        "colab": {
          "base_uri": "https://localhost:8080/"
        },
        "id": "NR659wplrmkx",
        "outputId": "83360c2c-0f53-43dd-8cf7-83202bb0a1b0"
      },
      "source": [
        "!g++ doblar.cpp && ./a.out"
      ],
      "execution_count": null,
      "outputs": [
        {
          "output_type": "stream",
          "text": [
            "30\n",
            "20\n",
            "3\n",
            "30 20\n",
            "30 10\n",
            "15 10\n",
            "15 5\n"
          ],
          "name": "stdout"
        }
      ]
    }
  ]
}