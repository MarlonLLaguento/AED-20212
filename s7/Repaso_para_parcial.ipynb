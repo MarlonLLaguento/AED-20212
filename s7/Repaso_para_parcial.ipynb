{
  "nbformat": 4,
  "nbformat_minor": 0,
  "metadata": {
    "colab": {
      "name": "Repaso para parcial.ipynb",
      "provenance": [],
      "authorship_tag": "ABX9TyMjHx1ygTut5m8Yot7rmbmv"
    },
    "kernelspec": {
      "name": "python3",
      "display_name": "Python 3"
    },
    "language_info": {
      "name": "python"
    }
  },
  "cells": [
    {
      "cell_type": "markdown",
      "metadata": {
        "id": "xb1o9Fu7K3o8"
      },
      "source": [
        "# Ejercicios propuestos"
      ]
    },
    {
      "cell_type": "markdown",
      "metadata": {
        "id": "dDn8B4i2-ceJ"
      },
      "source": [
        "#Nivel: ✔️"
      ]
    },
    {
      "cell_type": "markdown",
      "metadata": {
        "id": "XXLaJSK8FBlU"
      },
      "source": [
        "##**Ejercicio 1.- indicar los algoritmos producen los siguientes resultados**\n",
        "> **Algoritmo 1**\n",
        "\n",
        "[ s s k y b n v j h t ]\n",
        "\n",
        "[ b s k y s n v j h t ]\n",
        "\n",
        "[ b h k y s n v j s t ]\n",
        "\n",
        "[ b h j y s n v k s t ]\n",
        "\n",
        "[ b h j k s n v y s t ]\n",
        "\n",
        "[ b h j k n s v y s t ]\n",
        "\n",
        "[ b h j k n s s y v t ]\n",
        "\n",
        "[ b h j k n s s t v y ]\n",
        "\n",
        "\n",
        "> **Algoritmo 2**\n",
        "\n",
        "[ b l n s d w f ]\n",
        "\n",
        "[ b l n s s w f ]\n",
        "\n",
        "[ b l n n s w f ]\n",
        "\n",
        "[ b l l n s w f ]\n",
        "\n",
        "[ b d l n s w f ]\n",
        "\n",
        "[ b d l n s w w ]\n",
        "\n",
        "[ b d l n s s w ]\n",
        "\n",
        "[ b d l n n s w ]\n",
        "\n",
        "[ b d l l n s w ]\n",
        "\n",
        "[ b d f l n s w ]\n",
        "\n",
        "##**Ejercicio 2: responda las siguientes preguntas**\n",
        "\n",
        "con el arreglo siguiente: [5,3,6,1,9,2], conteste la siguientes preguntas.\n",
        "* ¿con el algoritmo exchange sort, cómo quedaría el arreglo después de la primera iteración?\n",
        "* ¿con el algoritmo bubble sort, cuántas intercambios se hacen hasta la tercera iteración?\n",
        "* ¿con el algoritmo de selection sort, cuántas comparaciones realiza?\n",
        "* ¿con el algoritmo de insertion sort, cuántas desplazamientos realiza?\n",
        "* El algoritmo shell sort publicado en el aula virtual, implemente un método con uso de templates e indique su complejidad detallada y asintótica.\n",
        "\n",
        "\n",
        "\n"
      ]
    },
    {
      "cell_type": "markdown",
      "metadata": {
        "id": "GSKeRONl_FK8"
      },
      "source": [
        "#Nivel:✔️✔️"
      ]
    },
    {
      "cell_type": "markdown",
      "metadata": {
        "id": "YDIe8bZJFHqc"
      },
      "source": [
        "> Usar lambdas y templates\n",
        "## **Ejercicio 1:** \n",
        "### **Implemente una lista simple enlazada circular con las siguientes características:**\n",
        "- Usar programación orientada a objetos.\n",
        "- Implementar el método insertar al inicio. De orden O(1).\n",
        "- Implementar el método eliminar en posición. De orden O(n)\n",
        "- Implementar el método buscar que retorne una lista de elementos que coincidan usando un lambda para establecer el criterio de búsqueda. De orden O(n)\n",
        "- Implemente una aplicación de prueba que permita llenar la lista con diez mil elementos aleatorios de tipo clase. La clase será a su elección y deberá tener por lo menos 3 atributos.\n",
        "\n",
        "## **Ejercicio 2:**\n",
        "### **Implementar una pila de tamaño fijo con arreglos**\n",
        "\n",
        "Operaciones:\n",
        "\n",
        "- push()\n",
        "- pop()\n",
        "- top()\n",
        "- empty()\n",
        "- full()\n",
        "- size()\n",
        "\n",
        "### **Implementar una cola de de tamaño dinámico con listas simple enlazadas**\n",
        "\n",
        "Operaciones:\n",
        "\n",
        "- push()\n",
        "- pop()\n",
        "- front()\n",
        "- back()\n",
        "- empty()\n",
        "- size()\n"
      ]
    },
    {
      "cell_type": "markdown",
      "metadata": {
        "id": "4XOEtyFR_LnL"
      },
      "source": [
        "#Nivel:✔️✔️✔️"
      ]
    },
    {
      "cell_type": "markdown",
      "metadata": {
        "id": "zsHp1rYU_c8C"
      },
      "source": [
        "## Ejercicio 1\n",
        "Las Vegas siempre anda en búsqueda de nuevas formas de entretener a sus numerosos visitantes y darles la oportunidad de “ganar dinero”. Por ello han ideado un nuevo juego y le han invitado a participar del desarrollo de un programa para darle soporte.\n",
        "El nuevo juego, llamado ruleta de apuestas, permite a los participantes ingresar anotando su nombre y el monto de dinero con el que cuentan para participar.\n",
        "Los participantes toman su lugar alrededor de una mesa virtual circular muy grande, en la que pueden entrar decenas de miles de participantes. Los participantes van llegando y se sientan a la derecha de la persona anterior y hacen un depósito de $10.\n",
        "\n",
        "El juego empieza cuando hayan ingresado por lo menos 1000 participantes y el último participante en anotarse deberá empezar lanzando un dado de una variedad de caras numeradas desde 25000 a 15000000, luego se deberá pasar el dado a la izquierda, el número de posiciones indicado en el lanzamiento. La persona que reciba el dado ganará el monto acumulado del depósito de todos los participantes anotados menos el 15% que es la ganancia de la casa.\n",
        "Al final de cada rotación, más personas pueden entrar a la mesa pero ahora pueden entrar en cualquier posición que deseen y, como es un juego tan popular, miles de personas entran en cada nueva ronda hasta un máximo de 150000 en total.\n",
        "En cada nueva rotación, los nuevos participantes pagán 10 dolares y los participantes actuales deben pagar $5. El participante que se quedó con el super dado, deberá lanzar y nuevamente se pasa el dado hacia la izquierda el número de posiciones indicado. El participante que finalmente recibe el dado gana el pozo acumulado menos el 15% y el juego vuelve a empezar. Los participantes que se queden sin dinero deberán retirarse.\n",
        "Sugerencia: genere participantes aleatoriamente para no tener que ingresarlos manualmente cada vez.\n",
        "\n",
        "Se solicita:\n",
        "\n",
        "\n",
        "* Desarrollar con POO.\n",
        "* Creación de la Estructura de Datos para almacenar los elementos\n",
        "* Creación de un método para generar “n” elementos según especificación e incluirlo en la estructura de datos.\n",
        "* Creación de los métodos para inserción y retiro de los elementos según especificación.\n",
        "* Implementación de la funcionalidad indicada, hacer la verificación mediante una función de prueba.\n",
        "* No debe hacer uso de contenedores STL.\n",
        "\n"
      ]
    },
    {
      "cell_type": "markdown",
      "metadata": {
        "id": "7WifCZo7AaO9"
      },
      "source": [
        "## Ejercicio 2\n",
        "Haciendo uso de las pilas desarrollado en clase, realice un método para validar la concordancia de los signos de agrupación paréntesis, corchetes y llaves del lenguaje de programación c++, por ejemplo:\n",
        "\n",
        "Input:\n",
        "\n",
        "Empieza con un número N (1 <= N <= 1000). Luego siguen N líneas que contienen un programa en C + + (Considere que no hay signos de agrupación entre comillas.\n",
        "\n",
        "Output:\n",
        "\n",
        "Muestra un mensaje “correcto” o “incorrecto”\n",
        "\n",
        "![](https://i.ibb.co/tmCPyvK/2021-09-29-094401.png)\n"
      ]
    }
  ]
}