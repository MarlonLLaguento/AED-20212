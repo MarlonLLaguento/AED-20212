{
  "nbformat": 4,
  "nbformat_minor": 0,
  "metadata": {
    "colab": {
      "name": "Ejercicio2.ipynb",
      "provenance": [],
      "authorship_tag": "ABX9TyNp5WRPW5C0dgYcjcD42gyt"
    },
    "kernelspec": {
      "name": "python3",
      "display_name": "Python 3"
    },
    "language_info": {
      "name": "python"
    }
  },
  "cells": [
    {
      "cell_type": "code",
      "metadata": {
        "colab": {
          "base_uri": "https://localhost:8080/"
        },
        "id": "yrrpB76avzQF",
        "outputId": "1caf802b-ae7f-417e-e869-9ec8aea569e4"
      },
      "source": [
        "%%writefile prueba1.cpp\n",
        "7\n",
        "#include <iostream>\n",
        "using namespace std;\n",
        "int main(){\n",
        "  int arreglo[10];\n",
        "  cout<<\"esto es una prueba correcta\";\n",
        "  return 0;\n",
        "}"
      ],
      "execution_count": 1,
      "outputs": [
        {
          "output_type": "stream",
          "name": "stdout",
          "text": [
            "Writing prueba1.cpp\n"
          ]
        }
      ]
    },
    {
      "cell_type": "code",
      "metadata": {
        "colab": {
          "base_uri": "https://localhost:8080/"
        },
        "id": "W3BmWTJiv73b",
        "outputId": "0d41e187-97fa-4213-fc32-66763a0a35bd"
      },
      "source": [
        "%%writefile prueba2.cpp\n",
        "7\n",
        "#include <iostream>\n",
        "using namespace std;\n",
        "int main()\n",
        "  int arreglo[10];\n",
        "  cout<<\"esto es una prueba incorrecta\";\n",
        "  return 0;\n",
        "}"
      ],
      "execution_count": 2,
      "outputs": [
        {
          "output_type": "stream",
          "name": "stdout",
          "text": [
            "Writing prueba2.cpp\n"
          ]
        }
      ]
    },
    {
      "cell_type": "code",
      "metadata": {
        "colab": {
          "base_uri": "https://localhost:8080/"
        },
        "id": "r-qTxGsQwIzD",
        "outputId": "aeeb64cf-f4ad-4122-e38b-dc2cf4cdd390"
      },
      "source": [
        "%%writefile prueba3.cpp\n",
        "11\n",
        "#include <iostream>\n",
        "using namespace std;\n",
        "int main(){\n",
        "  int arreglo[10];\n",
        "  int i=2;\n",
        "  if(i%2==0){\n",
        "\tcout<<\"Par\";\n",
        "  \n",
        "  cout<<\"esto es una prueba incorrecta\";\n",
        "  return 0;\n",
        "}"
      ],
      "execution_count": 8,
      "outputs": [
        {
          "output_type": "stream",
          "name": "stdout",
          "text": [
            "Overwriting prueba3.cpp\n"
          ]
        }
      ]
    },
    {
      "cell_type": "code",
      "metadata": {
        "colab": {
          "base_uri": "https://localhost:8080/"
        },
        "id": "xHRAp4q9vPLb",
        "outputId": "9be492ce-50c1-4b0b-9176-eaf2e640d209"
      },
      "source": [
        "%%writefile parseador.cpp\n",
        "#include <iostream>\n",
        "#include <string>\n",
        "#include <string.h>\n",
        "#include <fstream>\n",
        "using namespace std;\n",
        "class Pila {\n",
        "    char* arr;\n",
        "    short tam;\n",
        "    short indice;\n",
        "public:\n",
        "    Pila() {\n",
        "        tam = 100;\n",
        "        arr = new char[tam];\n",
        "        indice = 0;\n",
        "    }\n",
        "    void push(char v) {\n",
        "        if (indice < tam)\n",
        "            arr[++indice] = v;\n",
        "    }\n",
        "    bool vacio() {\n",
        "        return (indice > 0) ? false : true;\n",
        "    }\n",
        "    bool validar(char texto[]) {\n",
        "        indice = 0;\n",
        "        int n = strlen(texto);\n",
        "// en este ciclo repetitivo solo inserta a la pila los caracteres de apertura (,[,{  y cierre; cualquier otro caracter se descarta\n",
        "        for (int i = 0; i < n; ++i) {\n",
        "            switch (texto[i]) {\n",
        "            case '(':push('(');; break;\n",
        "            case '[':push('[');; break;\n",
        "            case '{':push('{');; break;\n",
        "            }\n",
        "            //en caso de encontrar un caracter ')' verifica el último valor de la pila,\n",
        "            //si encuentra su correspondiente apertura'(' el indice de la pila disminuye\n",
        "            //(simulando que se desapila) para no gastar un tiempo adicional en eliminar el elemento\n",
        "            // dado que en un arreglo SIEMPRE gastará el mismo espacio.\n",
        "\n",
        "            if (texto[i] == ')') {\n",
        "                if (vacio() || arr[indice] != '(') return false;\n",
        "                else  --indice;                \n",
        "            }\n",
        "            //idem de la condicion anterior\n",
        "            if (texto[i] == ']') {\n",
        "                if (vacio() || arr[indice] != '[') return false;\n",
        "                else  --indice;                \n",
        "            }\n",
        "            if (texto[i] == '}') {\n",
        "                if (vacio() || arr[indice] != '{') return false;\n",
        "                else  --indice;                \n",
        "            }\n",
        "        }\n",
        "\n",
        "        if (indice == 0) return true; \n",
        "        else return false;\n",
        "    }\n",
        "};\n",
        "\n",
        "int main() {    \n",
        "    Pila stack;\n",
        "    short cantidad,c=0;\n",
        "    string s;\n",
        "    string linea;\n",
        "    ifstream arch(\"prueba3.cpp\");\n",
        "    arch>>cantidad;    //obtiene la primera linea\n",
        "    int longitud = 0;\n",
        "    while (c<=cantidad) {//lee las \"c\" lineas siguientes\n",
        "        getline(arch, linea);\n",
        "        longitud += linea.length();\n",
        "        s.append(linea);//concatena\n",
        "        ++c;\n",
        "    }\n",
        "    char* texto=new char[longitud + 1];    \n",
        "    strcpy(texto, s.c_str());    \n",
        "    string salida = stack.validar(texto) == true ? \"correcto\" : \"incorrecto\";\n",
        "    cout << salida;\n",
        "}\n"
      ],
      "execution_count": 23,
      "outputs": [
        {
          "output_type": "stream",
          "name": "stdout",
          "text": [
            "Overwriting parseador.cpp\n"
          ]
        }
      ]
    },
    {
      "cell_type": "code",
      "metadata": {
        "colab": {
          "base_uri": "https://localhost:8080/"
        },
        "id": "Ua0PVaAcwY3b",
        "outputId": "1b7be5a3-89a5-4ffa-dcf2-bd494e96a111"
      },
      "source": [
        "!g++ parseador.cpp && ./a.out"
      ],
      "execution_count": 24,
      "outputs": [
        {
          "output_type": "stream",
          "name": "stdout",
          "text": [
            "incorrecto"
          ]
        }
      ]
    },
    {
      "cell_type": "code",
      "metadata": {
        "id": "bs062LZiwivK"
      },
      "source": [
        ""
      ],
      "execution_count": null,
      "outputs": []
    }
  ]
}