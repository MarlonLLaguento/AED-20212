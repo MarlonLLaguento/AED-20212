{
  "nbformat": 4,
  "nbformat_minor": 0,
  "metadata": {
    "colab": {
      "name": "Algoritmos de Arboles.ipynb",
      "provenance": [],
      "collapsed_sections": [],
      "authorship_tag": "ABX9TyOazeJ2M1zUmHg87L1T3oS0"
    },
    "kernelspec": {
      "name": "python3",
      "display_name": "Python 3"
    },
    "language_info": {
      "name": "python"
    }
  },
  "cells": [
    {
      "cell_type": "markdown",
      "metadata": {
        "id": "qB8JIK3rUNsZ"
      },
      "source": [
        "#Algoritmos en Pseudocódigo para implementar en arbol existente"
      ]
    },
    {
      "cell_type": "markdown",
      "metadata": {
        "id": "UZ4Vovd2UVaA"
      },
      "source": [
        "```\n",
        "\tfunction minimo(Nodo nodo) {\n",
        "\t\tSi (nodo.izquierda == NULL) \n",
        "      retorna nodo.elemento;\n",
        "\t\tSino\n",
        "\t\t\tretorna minimo(nodo.izquierda);\t\t\n",
        "\t}\n",
        "```"
      ]
    },
    {
      "cell_type": "markdown",
      "metadata": {
        "id": "mVVeA-k1ew3o"
      },
      "source": [
        "```\n",
        "function altura(Nodo nodo) {\n",
        "\t\tSi (nodo == NULL)\n",
        "\t\t\tretorna 0;\n",
        "\t\tSino\n",
        "\t\t{\t\t\t\n",
        "\t\t\tizq = 1 + altura(nodo.izquierda);\n",
        "\t\t\tder = 1 + altura(nodo.derecha);\n",
        "\t\t\tretorna maximo(izq,der);\n",
        "\t\t}\n",
        "\t}\n",
        "\n",
        "```"
      ]
    },
    {
      "cell_type": "markdown",
      "metadata": {
        "id": "cpU77fvBezip"
      },
      "source": [
        "```\n",
        "function buscar(Nodo nodo, Dato e) {\n",
        "\t\tSi (nodo == NULL) \n",
        "      retorna false;\n",
        "\t\tSino {\n",
        "\t\t\tint r = comparar(nodo.elemento, e);\n",
        "\t\t\tSi (r == 0) \n",
        "          retorna true;\n",
        "\t\t\tSino Si (r < 0) {\n",
        "\t\t\t\tretorna buscar(nodo.derecha, e);\n",
        "\t\t\t}\n",
        "\t\t\tSi {\n",
        "\t\t\t\tretorna buscar(nodo.izquierda, e);\n",
        "\t\t\t}\n",
        "\t\t}\n",
        "\t}\n",
        "```"
      ]
    },
    {
      "cell_type": "markdown",
      "metadata": {
        "id": "dJrGTbgmeygw"
      },
      "source": [
        "```\n",
        "function eliminar(Nodo nodo, Dato e) {\n",
        "\t\tSi (nodo == NULL) \n",
        "      retorna false;\n",
        "\t\tSino {\n",
        "\t\t\tint r = comparar(nodo.elemento, e);\n",
        "\t\t\tSI (r < 0) {\n",
        "\t\t\t\tretorna eliminar(nodo.der, e);\n",
        "\t\t\t}\n",
        "\t\t\tSino Si (r > 0) {\n",
        "\t\t\t\tretorna eliminar(nodo.izq, e);\n",
        "\t\t\t}Sino { // r==0 encontró el elemento e en el arbol\n",
        "\t\t\t\tSi (nodo.derecha ==NULL & nodo.izqquierda == NULL) {\n",
        "\t\t\t\t\tnodo = NULL;\n",
        "\t\t\t\t\teliminar nodo;\t\t\n",
        "\t\t\t\t\tretorna true;\n",
        "\t\t\t\t}\n",
        "\t\t\t\tSino Si (nodo.izquierda == NULL) { \n",
        "\t\t\t\t\tnodo = nodo.der;\t\n",
        "\t\t\t\t\tretorna true;\n",
        "\t\t\t\t}\n",
        "\t\t\t\tSino Si (nodo.derecha == NULL) { \n",
        "\t\t\t\t\tnodo = nodo.izquierda;\t\n",
        "\t\t\t\t\tretorna true;\n",
        "\t\t\t\t}\n",
        "\t\t\t\tSino { \n",
        "\t\t\t\t\tNodo aux = nodo.derecha; //buscara el menor elemento por la derecha\n",
        "\t\t\t\t\tMientras (aux.izquierda != NULL)\n",
        "\t\t\t\t\t{\n",
        "\t\t\t\t\t\taux = aux.izquierda; //Se obtiene la hoja menor\n",
        "\t\t\t\t\t}\n",
        "\t\t\t\t\tnodo.elemento = aux.elemento; //Se actualiza el elemento en el nodo raiz y\n",
        "\t\t\t\t\tretorna eliminar(nodo.derecha,aux.elemento); //se envía a eliminar el elemento en el arbol por la derecha\n",
        "\t\t\t\t}\t\t\t\t\n",
        "\t\t\t}\n",
        "\t\t}\n",
        "\t}\n",
        "```\n"
      ]
    },
    {
      "cell_type": "markdown",
      "metadata": {
        "id": "T6zhKZd1dY_Y"
      },
      "source": [
        "\n",
        "```\n",
        "function obtener(Nodo nodo, Dato e) {\n",
        "\t\tSi (nodo == NULL) \n",
        "        retorna NULL;\n",
        "\t\tSino {\n",
        "\t\t\tint r = comparar(nodo->elemento, e);\n",
        "\t\t\tSi (r == 0) retorna nodo;\n",
        "\t\t\tSino si (r < 0) \n",
        "\t\t\t\tretorna buscar(nodo->der, e);\n",
        "\t\t\tEntonces \n",
        "\t\t\t\tretorna buscar(nodo->izq, e);\t\t\t\n",
        "\t\t}\n",
        "\t}\n",
        "```\n",
        "\n",
        "\n"
      ]
    },
    {
      "cell_type": "markdown",
      "metadata": {
        "id": "7hs2nXxSqkKn"
      },
      "source": [
        "##Asignación\n",
        "implementar los siguientes métodos\n",
        "* eliminar los elementos de la derecha\n",
        "* mostrar los elementos por niveles\n",
        "* calcular la sumatoria de elementos del árbol\n",
        "* imprimir en orden invertido\n",
        "* mostrar la ruta mas larga\n"
      ]
    },
    {
      "cell_type": "code",
      "metadata": {
        "id": "lAVTXa5afiWM"
      },
      "source": [
        ""
      ],
      "execution_count": null,
      "outputs": []
    }
  ]
}