{
  "nbformat": 4,
  "nbformat_minor": 0,
  "metadata": {
    "colab": {
      "name": "ArbolesBinarios.ipynb",
      "provenance": [],
      "collapsed_sections": [],
      "authorship_tag": "ABX9TyPCKOtsZbpP4R6Jg5V7YIXt"
    },
    "kernelspec": {
      "name": "python3",
      "display_name": "Python 3"
    },
    "language_info": {
      "name": "python"
    }
  },
  "cells": [
    {
      "cell_type": "code",
      "metadata": {
        "colab": {
          "base_uri": "https://localhost:8080/"
        },
        "id": "S9YnD1fIhJKx",
        "outputId": "629d9ef3-bea2-4268-e582-b88480906bc5"
      },
      "source": [
        "%%writefile ABB.hpp\n",
        "#ifndef __ARBOLB_HPP__\n",
        "#define __ARBOLB_HPP__\n",
        "\n",
        "template <class T>\n",
        "class Nodo {\n",
        "public:\n",
        "\tT elemento;\n",
        "\tNodo* izq;\n",
        "\tNodo* der;\n",
        "  Nodo(T elemento){\n",
        "      this->elemento=elemento;\n",
        "      izq=der=nullptr;\n",
        "\n",
        "  }\n",
        "\tNodo(){  }\n",
        "};\n",
        "\n",
        "template <class T>\n",
        "class ArbolB {\n",
        "\tNodo<T>* raiz;\t\n",
        "\n",
        "private:\n",
        "\tbool _insertar(Nodo<T>*& nodo, T e) {\n",
        "\t\tif (nodo == nullptr) {\n",
        "\t\t\tnodo = new Nodo<T>(e);\n",
        "\t\t}\n",
        "\t\telse if (e < nodo->elemento) {\n",
        "\t\t\treturn _insertar(nodo->izq, e);\n",
        "\t\t}\n",
        "\t\telse if (e >= nodo->elemento) {\n",
        "\t\t\treturn _insertar(nodo->der, e);\n",
        "\t\t}\n",
        "\t}\n",
        "\tvoid _enOrden(Nodo<T>* nodo) {\n",
        "\t\tif (nodo == nullptr) return;\n",
        "\t\t_enOrden(nodo->izq);\n",
        "\t\tcout<<nodo->elemento<<\" \";\n",
        "\t\t_enOrden(nodo->der);\n",
        "\t}\n",
        "\t\n",
        "\tbool _vacio() {\n",
        "\t\treturn raiz == nullptr;\n",
        "\t}\n",
        "\tint _cantidad(Nodo<T>* nodo) {\n",
        "\t\t//La cantidad de nodos del árbol es:\n",
        "\t\t//\t0 si es vacío\n",
        "\t\t//\t1 + la cantidad de nodos por la izquierda + la cantidad de nodos por la derecha\n",
        "\t\tif (nodo==nullptr)\n",
        "\t\t\treturn 0;\n",
        "\t\telse\n",
        "\t\t{\n",
        "\t\t\tint ci, cd;\n",
        "\t\t\tci = _cantidad(nodo->izq);\n",
        "\t\t\tcd = _cantidad(nodo->der);\n",
        "\t\t\treturn 1 + ci + cd;\n",
        "\t\t}\n",
        "\n",
        "\t}\n",
        "public:\n",
        "\tArbolB() {\n",
        "\t\n",
        "\t\traiz = nullptr;\n",
        "\t}\n",
        "\tbool insertar(T e) {\n",
        "\t\treturn _insertar(raiz, e);\n",
        "\t}\n",
        "\tvoid enOrden() {\n",
        "\t\t_enOrden(raiz);\n",
        "  }\n",
        "\tint cantidad() {\n",
        "\t\treturn _cantidad(raiz);\n",
        "\t}\n",
        "\tint altura() {\n",
        "\t\treturn _altura(raiz);\n",
        "\t}\n",
        "  \n",
        "};\n",
        "\n",
        "#endif"
      ],
      "execution_count": null,
      "outputs": [
        {
          "output_type": "stream",
          "name": "stdout",
          "text": [
            "Writing ABB.hpp\n"
          ]
        }
      ]
    },
    {
      "cell_type": "code",
      "metadata": {
        "colab": {
          "base_uri": "https://localhost:8080/"
        },
        "id": "biBHveyOhTql",
        "outputId": "bf1fe898-a65e-47ae-bf63-37da1442dbdd"
      },
      "source": [
        "%%writefile prototipo.cpp\n",
        "//****************************************************Solution.hpp*************************************\n",
        "#include <iostream>\n",
        "#include <string>\n",
        "#include <functional>\n",
        "#include <fstream>\n",
        "\n",
        "using namespace std;\n",
        "#include \"ABB.hpp\"\n",
        "\n",
        "//****************************************************Solution.cpp*************************************\n",
        "\n",
        "class Register {\n",
        "\tstring apellido;\n",
        "\tstring nombre;\n",
        "\tshort edad;\n",
        "\tbool fumador;\n",
        "public:\n",
        "\tRegister(string nombre=\"\", string apellido=\"\", short edad=25, bool fumador=false) {\n",
        "\t\tthis->apellido = apellido;\n",
        "\t\tthis->nombre = nombre;\n",
        "\t\tthis->edad = edad;\n",
        "\t\tthis->fumador = fumador;\n",
        "\t}\n",
        "\tfriend ostream& operator<<(ostream& os, const Register& r) {\n",
        "\t\tos << r.nombre << \" \" << r.apellido << \" \" << r.edad << \" \" << r.fumador << endl;\n",
        "\t\treturn os;\n",
        "\t}\n",
        "\tbool operator<(const Register& r) {\n",
        "\t\treturn this->edad < r.edad;\n",
        "\t}\n",
        "  bool operator>=(const Register& r) {\n",
        "\t\treturn this->edad >= r.edad;\n",
        "\t}\n",
        "\tbool operator>(const Register& r) {\n",
        "\t\treturn this->edad > r.edad;\n",
        "\t}\n",
        "};\n",
        "\n",
        "\n",
        "class Dataset {\n",
        "\tArbolB<Register> registros;\n",
        "public:\n",
        "\tDataset() {\n",
        "\t\treadTSV(\"Registros.csv\");\n",
        "\t}\n",
        "\tvoid readTSV(string name = \"\", bool header = true) {//campos separados por tab o espacios\n",
        "\t\tifstream file(name);\n",
        "\t\tstring reg, nombre, apellido, t_edad, t_fumador;\n",
        "\t\tshort edad;\n",
        "\t\tbool fumador;\n",
        "\t\tif (header)\n",
        "\t\t\tgetline(file, reg);\n",
        "\t\twhile (file >> nombre >> apellido >> t_edad >> t_fumador) {\n",
        "\t\t\tedad = stoi(t_edad);\n",
        "\t\t\tfumador = t_fumador[0] == 'Y';\n",
        "\t\t\tregistros.insertar(Register(nombre, apellido, edad, fumador));\n",
        "\t\t}\n",
        "\t}\n",
        "\t\t\n",
        "\tvoid print() {\n",
        "\t\tregistros.enOrden();\n",
        "\t}\n",
        "  int size(){\n",
        "      return registros.cantidad();\n",
        "\n",
        "  }\n",
        "};\n",
        "int main() {\n",
        "\tDataset ds;\n",
        "\tds.print();\n",
        "  cout<<\"\\n\\n\"<<ds.size();\n",
        "\treturn 0;\n",
        "}"
      ],
      "execution_count": null,
      "outputs": [
        {
          "output_type": "stream",
          "name": "stdout",
          "text": [
            "Writing prototipo.cpp\n"
          ]
        }
      ]
    },
    {
      "cell_type": "code",
      "metadata": {
        "colab": {
          "base_uri": "https://localhost:8080/"
        },
        "id": "WskcOJ21Y-D0",
        "outputId": "cfcd7ed0-3e31-426e-92ee-d62d7a43e437"
      },
      "source": [
        "%%writefile Registros.csv\n",
        "Nombre\tApellido edad fumador\n",
        "Jorge Cerdan 20 Y\n",
        "Roberto Juarez 35 N\n",
        "Fidel Sanchez 21 N\n",
        "Sofia Minchola 34 Y \n",
        "Ana Rodriguez 18 N\n",
        "Juan Perez 36 Y\n",
        "Jaime Diaz 45 N\n",
        "Cesar Juarez 17 N\n",
        "Karla Melendez 38 Y\n",
        "Agustin Ullon 40 N"
      ],
      "execution_count": null,
      "outputs": [
        {
          "output_type": "stream",
          "name": "stdout",
          "text": [
            "Writing Registros.csv\n"
          ]
        }
      ]
    },
    {
      "cell_type": "code",
      "metadata": {
        "id": "9sixGa2wPdGm",
        "colab": {
          "base_uri": "https://localhost:8080/"
        },
        "outputId": "6535e895-e43a-4609-d01d-67b438fce495"
      },
      "source": [
        "!g++ prototipo.cpp && ./a.out"
      ],
      "execution_count": null,
      "outputs": [
        {
          "output_type": "stream",
          "name": "stdout",
          "text": [
            "Jorge Cerdan 20 1\n",
            " Fidel Sanchez 21 0\n",
            " Sofia Minchola 34 1\n",
            " Roberto Juarez 35 0\n",
            " \n",
            "\n",
            "4"
          ]
        }
      ]
    },
    {
      "cell_type": "markdown",
      "metadata": {
        "id": "tBvgTD2SjYoF"
      },
      "source": [
        "#Asignación\n",
        "Implementar los siguientes métodos\n",
        "* Preorden\n",
        "* PostOrden\n",
        "* Altura\n",
        "* Eliminación\n",
        "* Implementar los atributos como funciones para comparacion e impresion(ref. s4/Repaso.ipynb)"
      ]
    },
    {
      "cell_type": "code",
      "metadata": {
        "id": "TC3_SY9Zy-RJ"
      },
      "source": [
        ""
      ],
      "execution_count": null,
      "outputs": []
    }
  ]
}