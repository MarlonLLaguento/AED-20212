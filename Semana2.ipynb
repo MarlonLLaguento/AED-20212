{
  "nbformat": 4,
  "nbformat_minor": 0,
  "metadata": {
    "colab": {
      "name": "Semana2.ipynb",
      "provenance": [],
      "authorship_tag": "ABX9TyPZ1M81ILnVa4m/W1sC2N80",
      "include_colab_link": true
    },
    "kernelspec": {
      "name": "python3",
      "display_name": "Python 3"
    },
    "language_info": {
      "name": "python"
    }
  },
  "cells": [
    {
      "cell_type": "markdown",
      "metadata": {
        "id": "view-in-github",
        "colab_type": "text"
      },
      "source": [
        "<a href=\"https://colab.research.google.com/github/MarlonLLaguento/AED-20212/blob/main/Semana2.ipynb\" target=\"_parent\"><img src=\"https://colab.research.google.com/assets/colab-badge.svg\" alt=\"Open In Colab\"/></a>"
      ]
    },
    {
      "cell_type": "code",
      "metadata": {
        "colab": {
          "base_uri": "https://localhost:8080/"
        },
        "id": "GgPfZyVYqouP",
        "outputId": "000d52a8-abe3-4e92-ca1f-ba63debc5778"
      },
      "source": [
        "%%writefile Programa1.cpp\n",
        "#include<iostream>\n",
        "using namespace std;\n",
        "\n",
        "int main(){\n",
        "  cout<<\"Intro a google colab\";\n",
        "  return 0;\n",
        "}"
      ],
      "execution_count": null,
      "outputs": [
        {
          "output_type": "stream",
          "text": [
            "Overwriting Programa1.cpp\n"
          ],
          "name": "stdout"
        }
      ]
    },
    {
      "cell_type": "code",
      "metadata": {
        "id": "PUO0wAanr3Vh"
      },
      "source": [
        "#compilar\n",
        "!g++ Programa1.cpp"
      ],
      "execution_count": null,
      "outputs": []
    },
    {
      "cell_type": "code",
      "metadata": {
        "id": "rFs1FjJbs6kv",
        "colab": {
          "base_uri": "https://localhost:8080/"
        },
        "outputId": "bbe8e2b4-da66-44fc-8c98-8ffa8d084b81"
      },
      "source": [
        "#ejecucion\n",
        "!./a.out"
      ],
      "execution_count": null,
      "outputs": [
        {
          "output_type": "stream",
          "text": [
            "Intro a google colab"
          ],
          "name": "stdout"
        }
      ]
    },
    {
      "cell_type": "code",
      "metadata": {
        "colab": {
          "base_uri": "https://localhost:8080/"
        },
        "id": "7WktDdvjtKVP",
        "outputId": "b07fbc13-8142-43af-ca2e-f3df8e93ff0b"
      },
      "source": [
        "!g++ Programa1.cpp && ./a.out"
      ],
      "execution_count": null,
      "outputs": [
        {
          "output_type": "stream",
          "text": [
            "Intro a google colab"
          ],
          "name": "stdout"
        }
      ]
    },
    {
      "cell_type": "code",
      "metadata": {
        "colab": {
          "base_uri": "https://localhost:8080/"
        },
        "id": "njLMXH_eveFW",
        "outputId": "ecdebb8d-eb69-4fcf-eb10-516749c357ef"
      },
      "source": [
        "!g++ Programa1.cpp -std=c++1y -o Programa1.exe && ./Programa1.exe"
      ],
      "execution_count": null,
      "outputs": [
        {
          "output_type": "stream",
          "text": [
            "Intro a google colab"
          ],
          "name": "stdout"
        }
      ]
    },
    {
      "cell_type": "code",
      "metadata": {
        "colab": {
          "base_uri": "https://localhost:8080/"
        },
        "id": "qcd6-dMzwFZf",
        "outputId": "ff4d95a2-b01c-4341-8383-7405c4701d83"
      },
      "source": [
        "!g++ Programa1.cpp -std=c++1y -Wall -o Programa1.exe && ./Programa1.exe"
      ],
      "execution_count": null,
      "outputs": [
        {
          "output_type": "stream",
          "text": [
            "Intro a google colab"
          ],
          "name": "stdout"
        }
      ]
    },
    {
      "cell_type": "code",
      "metadata": {
        "colab": {
          "base_uri": "https://localhost:8080/"
        },
        "id": "A2XInVEq7vf9",
        "outputId": "445801a5-dac7-4b91-d2b1-2958465d275d"
      },
      "source": [
        "%%writefile Programa1.cpp\n",
        "#include<iostream>\n",
        "using namespace std;\n",
        "\n",
        "int main(){\n",
        "  cout<<\"Intro a google colab\";\n",
        "  return 0;\n",
        "}"
      ],
      "execution_count": null,
      "outputs": [
        {
          "output_type": "stream",
          "text": [
            "Writing Programa1.cpp\n"
          ],
          "name": "stdout"
        }
      ]
    },
    {
      "cell_type": "code",
      "metadata": {
        "id": "7LDtfVHV8EoL",
        "colab": {
          "base_uri": "https://localhost:8080/"
        },
        "outputId": "44f15440-fabc-4e26-b8fb-183d35a8f242"
      },
      "source": [
        "!g++ Programa1.cpp && ./a.out"
      ],
      "execution_count": null,
      "outputs": [
        {
          "output_type": "stream",
          "text": [
            "Intro a google colab"
          ],
          "name": "stdout"
        }
      ]
    }
  ]
}