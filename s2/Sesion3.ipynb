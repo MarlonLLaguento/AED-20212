{
  "nbformat": 4,
  "nbformat_minor": 0,
  "metadata": {
    "colab": {
      "name": "Semana2.ipynb",
      "provenance": [],
      "collapsed_sections": [],
      "authorship_tag": "ABX9TyPktP/CDBRPAHuzfspEgwuS"
    },
    "kernelspec": {
      "name": "python3",
      "display_name": "Python 3"
    },
    "language_info": {
      "name": "python"
    }
  },
  "cells": [
    {
      "cell_type": "markdown",
      "metadata": {
        "id": "pHQfzzk8r5HJ"
      },
      "source": [
        "# Contenido Temático de Sesión\n",
        "1. Introducción a Google Colab\n",
        "1. Compilación por terminal\n",
        "1. Markdown\n",
        "1. Templates\n",
        "1. Preguntas y Respuestas"
      ]
    },
    {
      "cell_type": "markdown",
      "metadata": {
        "id": "3kWt4_sfIcUF"
      },
      "source": [
        "## Colab\n",
        "Video de apoyo: \n",
        "[link](https://youtu.be/8VFYs3Ot_aA)"
      ]
    },
    {
      "cell_type": "markdown",
      "metadata": {
        "id": "qrMeWgPZINDe"
      },
      "source": [
        "## Compilación por terminal"
      ]
    },
    {
      "cell_type": "code",
      "metadata": {
        "colab": {
          "base_uri": "https://localhost:8080/"
        },
        "id": "qUNv-fx4pxgR",
        "outputId": "abcd351b-067c-4446-b54a-8406fd0523f3"
      },
      "source": [
        "%%writefile programa1.cpp\n",
        "#include <iostream>\n",
        "using namespace std;\n",
        "int main(){\n",
        "cout<<\"Intro a Google Colab\";\n",
        "  return 0;\n",
        "}"
      ],
      "execution_count": null,
      "outputs": [
        {
          "output_type": "stream",
          "text": [
            "Overwriting programa1.cpp\n"
          ],
          "name": "stdout"
        }
      ]
    },
    {
      "cell_type": "code",
      "metadata": {
        "id": "iDpxs8VtrYbj"
      },
      "source": [
        "#compilar\n",
        "!g++ programa1.cpp"
      ],
      "execution_count": null,
      "outputs": []
    },
    {
      "cell_type": "code",
      "metadata": {
        "colab": {
          "base_uri": "https://localhost:8080/"
        },
        "id": "xe6IzzWAs0__",
        "outputId": "8e71a063-963b-4961-a77c-235d820bd23b"
      },
      "source": [
        "#ejecucion\n",
        "!./a.out"
      ],
      "execution_count": null,
      "outputs": [
        {
          "output_type": "stream",
          "text": [
            "Intro a Google Colab"
          ],
          "name": "stdout"
        }
      ]
    },
    {
      "cell_type": "code",
      "metadata": {
        "colab": {
          "base_uri": "https://localhost:8080/"
        },
        "id": "beKb5twZtGXt",
        "outputId": "ea540198-1b1a-4b45-a883-4a51b0b2044b"
      },
      "source": [
        "!g++ programa1.cpp && ./a.out"
      ],
      "execution_count": null,
      "outputs": [
        {
          "output_type": "stream",
          "text": [
            "Intro a Google Colab"
          ],
          "name": "stdout"
        }
      ]
    },
    {
      "cell_type": "code",
      "metadata": {
        "colab": {
          "base_uri": "https://localhost:8080/"
        },
        "id": "CwCtJWyXtM70",
        "outputId": "a91c3c01-0d91-4a31-d7f0-7080162becb8"
      },
      "source": [
        "!g++ programa1.cpp -std=c++1z -Wall -o programa1.exe && ./programa1.exe"
      ],
      "execution_count": null,
      "outputs": [
        {
          "output_type": "stream",
          "text": [
            "Intro a Google Colab"
          ],
          "name": "stdout"
        }
      ]
    },
    {
      "cell_type": "code",
      "metadata": {
        "id": "lUd13E7MvhsV"
      },
      "source": [
        "!man -k g++"
      ],
      "execution_count": null,
      "outputs": []
    },
    {
      "cell_type": "markdown",
      "metadata": {
        "id": "_6JDgKI2ItDM"
      },
      "source": [
        "## Markdown\n",
        "Recursos:\n",
        "* [Cheat sheet](https://www.markdownguide.org/cheat-sheet/)\n",
        "* [Tutorial](https://youtu.be/oxaH9CFpeEE)"
      ]
    },
    {
      "cell_type": "markdown",
      "metadata": {
        "id": "JunPE5k8Ja8R"
      },
      "source": [
        "## Templates\n"
      ]
    },
    {
      "cell_type": "code",
      "metadata": {
        "colab": {
          "base_uri": "https://localhost:8080/"
        },
        "id": "x2Wm2sU56hYa",
        "outputId": "7b397dfd-f360-4794-a03b-c30c243a7e32"
      },
      "source": [
        "%%writefile sinTemplates.cpp\n",
        "class Operacion{\n",
        "    int n1;\n",
        "    int n2;\n",
        "    public:\n",
        "    Operacion(){\n",
        "        this->n1=0;\n",
        "        this->n2=0;\n",
        "    }\n",
        "    Operacion(int n1){\n",
        "        this->n1=n1;\n",
        "        this->n2=0;\n",
        "    }\n",
        "    Operacion(int n1, int n2){\n",
        "        this->n1=n1;\n",
        "        this->n2=n2;\n",
        "    }\n",
        "};\n",
        "int main(){\n",
        "    Operacion o1;\n",
        "    Operacion o2(100);\n",
        "    Operacion o3(100,200);\n",
        "    return 0;\n",
        "}\n"
      ],
      "execution_count": null,
      "outputs": [
        {
          "output_type": "stream",
          "text": [
            "Overwriting sinTemplates.cpp\n"
          ],
          "name": "stdout"
        }
      ]
    },
    {
      "cell_type": "code",
      "metadata": {
        "colab": {
          "base_uri": "https://localhost:8080/"
        },
        "id": "g3_2lDbh7hoU",
        "outputId": "92e6cc58-9d85-4976-a603-02a24d0b43da"
      },
      "source": [
        "%%writefile sinTemplates.cpp\n",
        "#include <iostream>\n",
        "using std::cout;\n",
        "using std::endl;\n",
        "typedef unsigned long long ull;\n",
        "class Operacion1{\n",
        "    short n1;\n",
        "    short n2;\n",
        "    public:\n",
        "    Operacion1(short n1=0, short n2=0):n1(n1),n2(n2){}\n",
        "    short suma(){return n1+n2;}\n",
        "};\n",
        "class Operacion2{\n",
        "    int n1;\n",
        "    int n2;\n",
        "    public:\n",
        "    Operacion2(int n1=0, int n2=0):n1(n1),n2(n2){}\n",
        "    int suma(){return n1+n2;}\n",
        "};\n",
        "class Operacion3{\n",
        "    ull n1;\n",
        "    ull n2;\n",
        "    public:\n",
        "    Operacion3(ull n1=0, ull n2=0):n1(n1),n2(n2){}\n",
        "    ull suma(){return n1+n2;}\n",
        "};\n",
        "class Operacion4{\n",
        "    double n1;\n",
        "    double n2;\n",
        "    public:\n",
        "    Operacion4(double n1=0, double n2=0):n1(n1),n2(n2){}\n",
        "    double suma(){return n1+n2;}\n",
        "};\n",
        "\n",
        "int main(){\n",
        "    Operacion1 o1(123456789.35,132456.24);\n",
        "    Operacion2 o2(123456789.35,132456.24);\n",
        "    Operacion3 o3(123456789.35,132456.24);\n",
        "    Operacion4 o4(123456789.35,132456.24);\n",
        "    cout<<o1.suma()<<endl;\n",
        "    cout<<o2.suma()<<endl;\n",
        "    cout<<o3.suma()<<endl;\n",
        "    cout<<o4.suma()<<endl;\n",
        "\n",
        "    return 0;\n",
        "}\n"
      ],
      "execution_count": null,
      "outputs": [
        {
          "output_type": "stream",
          "text": [
            "Overwriting sinTemplates.cpp\n"
          ],
          "name": "stdout"
        }
      ]
    },
    {
      "cell_type": "code",
      "metadata": {
        "colab": {
          "base_uri": "https://localhost:8080/"
        },
        "id": "0GqtZ_9h7Olf",
        "outputId": "a4f9f35b-a6cf-4c38-da2a-3b32211cfcb1"
      },
      "source": [
        "!g++ sinTemplates.cpp && ./a.out"
      ],
      "execution_count": null,
      "outputs": [
        {
          "output_type": "stream",
          "text": [
            "\u001b[01m\u001b[KsinTemplates.cpp:\u001b[m\u001b[K In function ‘\u001b[01m\u001b[Kint main()\u001b[m\u001b[K’:\n",
            "\u001b[01m\u001b[KsinTemplates.cpp:35:41:\u001b[m\u001b[K \u001b[01;35m\u001b[Kwarning: \u001b[m\u001b[Koverflow in implicit constant conversion [\u001b[01;35m\u001b[K-Woverflow\u001b[m\u001b[K]\n",
            "     Operacion1 o1(123456789.35,132456.24\u001b[01;35m\u001b[K)\u001b[m\u001b[K;\n",
            "                                         \u001b[01;35m\u001b[K^\u001b[m\u001b[K\n",
            "\u001b[01m\u001b[KsinTemplates.cpp:35:41:\u001b[m\u001b[K \u001b[01;35m\u001b[Kwarning: \u001b[m\u001b[Koverflow in implicit constant conversion [\u001b[01;35m\u001b[K-Woverflow\u001b[m\u001b[K]\n",
            "-2\n",
            "123589245\n",
            "123589245\n",
            "1.23589e+08\n"
          ],
          "name": "stdout"
        }
      ]
    },
    {
      "cell_type": "code",
      "metadata": {
        "colab": {
          "base_uri": "https://localhost:8080/"
        },
        "id": "OcZngcwn7TNJ",
        "outputId": "6d9ca714-d7f3-43ad-fb4f-d71346302806"
      },
      "source": [
        "%%writefile conTemplates.cpp\n",
        "#include <iostream>\n",
        "using std::cout;\n",
        "using std::endl;\n",
        "typedef unsigned long long ull;\n",
        "template <class Tipo>\n",
        "class Operacion{\n",
        "    Tipo n1;\n",
        "    Tipo n2;\n",
        "    public:\n",
        "    Operacion(Tipo n1=0, Tipo n2=0):n1(n1),n2(n2){}\n",
        "    Tipo suma(){return n1+n2;}\n",
        "};\n",
        "int main(){\n",
        "    Operacion<short> o1(123456789.35,132456.24);\n",
        "    Operacion<int> o2(123456789.35,132456.24);\n",
        "    Operacion<ull> o3(123456789.35,132456.24);\n",
        "    Operacion<float> o4(123456789.35,132456.24);\n",
        "    cout<<o1.suma()<<endl;\n",
        "    cout<<o2.suma()<<endl;\n",
        "    cout<<o3.suma()<<endl;\n",
        "    cout<<o4.suma()<<endl;\n",
        "    return 0;\n",
        "}"
      ],
      "execution_count": null,
      "outputs": [
        {
          "output_type": "stream",
          "text": [
            "Writing conTemplates.cpp\n"
          ],
          "name": "stdout"
        }
      ]
    },
    {
      "cell_type": "code",
      "metadata": {
        "colab": {
          "base_uri": "https://localhost:8080/"
        },
        "id": "V3C0CYBw_XVi",
        "outputId": "5bcb0f83-bf12-4763-b6cd-1e230ed32489"
      },
      "source": [
        "!g++ conTemplates.cpp && ./a.out"
      ],
      "execution_count": null,
      "outputs": [
        {
          "output_type": "stream",
          "text": [
            "\u001b[01m\u001b[KconTemplates.cpp:\u001b[m\u001b[K In function ‘\u001b[01m\u001b[Kint main()\u001b[m\u001b[K’:\n",
            "\u001b[01m\u001b[KconTemplates.cpp:14:47:\u001b[m\u001b[K \u001b[01;35m\u001b[Kwarning: \u001b[m\u001b[Koverflow in implicit constant conversion [\u001b[01;35m\u001b[K-Woverflow\u001b[m\u001b[K]\n",
            "     Operacion<short> o1(123456789.35,132456.24\u001b[01;35m\u001b[K)\u001b[m\u001b[K;\n",
            "                                               \u001b[01;35m\u001b[K^\u001b[m\u001b[K\n",
            "\u001b[01m\u001b[KconTemplates.cpp:14:47:\u001b[m\u001b[K \u001b[01;35m\u001b[Kwarning: \u001b[m\u001b[Koverflow in implicit constant conversion [\u001b[01;35m\u001b[K-Woverflow\u001b[m\u001b[K]\n",
            "-2\n",
            "123589245\n",
            "123589245\n",
            "1.23589e+08\n"
          ],
          "name": "stdout"
        }
      ]
    },
    {
      "cell_type": "code",
      "metadata": {
        "colab": {
          "base_uri": "https://localhost:8080/"
        },
        "id": "f5Hiij-J_bFP",
        "outputId": "7b758854-1e49-44f4-b777-fb0af102269f"
      },
      "source": [
        "%%writefile miniproyecto.cpp\n",
        "using namespace std;\n",
        "#include <iostream>\n",
        "#include <string>\n",
        "\n",
        "class Enemigo{\n",
        "    string nombre;\n",
        "    public:\n",
        "    Enemigo(){}\n",
        "};\n",
        "class Bala{\n",
        "    string material;\n",
        "    public:\n",
        "    Bala(){material=\"plomo\";}\n",
        "    string getMaterial(){return material;}\n",
        "};\n",
        "class Mapa{\n",
        "    short idx;\n",
        "    public:\n",
        "    Mapa(){}\n",
        "};\n",
        "struct Celular{\n",
        "    string marca;\n",
        "    Celular(){marca=\"Samsung\";}\n",
        "};\n",
        "template <class Tipo>\n",
        "class Arreglo{\n",
        "    Tipo* arr;\n",
        "    int idx;\n",
        "    public:\n",
        "    Arreglo(){\n",
        "        arr=new Tipo[100];\n",
        "        idx=0;\n",
        "    }\n",
        "    void insertar(Tipo o){\n",
        "        if(idx<100)\n",
        "        arr[idx++]=o;\n",
        "    }\n",
        "    Tipo getXPos(int p){\n",
        "        return arr[p];\n",
        "    }\n",
        "\n",
        "};\n",
        "int main(){\n",
        "    Arreglo<Enemigo> enemigos;\n",
        "    Arreglo<Bala> pistola;\n",
        "    Arreglo<Mapa> atlas;\n",
        "    Arreglo<Celular> celulares;\n",
        "    Arreglo<int> enteros;\n",
        "    pistola.insertar(Bala());\n",
        "    celulares.insertar(Celular());\n",
        "    for(size_t i=0;i<10;++i)\n",
        "      enteros.insertar(i);\n",
        "///////////////////mostrar\n",
        "  cout<<pistola.getXPos(0).getMaterial()<<endl;\n",
        "  cout<<celulares.getXPos(0).marca<<endl;\n",
        "    for(size_t i=0;i<10;++i)\n",
        "      cout<<enteros.getXPos(i)<<\" \";\n",
        "return 0;\n",
        "}"
      ],
      "execution_count": null,
      "outputs": [
        {
          "output_type": "stream",
          "text": [
            "Overwriting miniproyecto.cpp\n"
          ],
          "name": "stdout"
        }
      ]
    },
    {
      "cell_type": "code",
      "metadata": {
        "colab": {
          "base_uri": "https://localhost:8080/"
        },
        "id": "LhHiSNIMBl5P",
        "outputId": "8a06a194-3af6-4997-d7ce-392e13d93614"
      },
      "source": [
        "!g++ miniproyecto.cpp && ./a.out"
      ],
      "execution_count": null,
      "outputs": [
        {
          "output_type": "stream",
          "text": [
            "plomo\n",
            "Samsung\n",
            "0 1 2 3 4 5 6 7 8 9 "
          ],
          "name": "stdout"
        }
      ]
    },
    {
      "cell_type": "markdown",
      "metadata": {
        "id": "v3k-0yLt2x9Z"
      },
      "source": [
        "###Ejemplo de TA1-Pregunta 1\n",
        "* esto es un ejemplo de comentario de la pregunta 1\n",
        "\n"
      ]
    },
    {
      "cell_type": "code",
      "metadata": {
        "colab": {
          "base_uri": "https://localhost:8080/"
        },
        "id": "OGZOgYAA26Qm",
        "outputId": "d7b2d58a-d187-4ca1-b14e-2565bc26a616"
      },
      "source": [
        "%%writefile struct.cpp\n",
        "struct SPersona{\n",
        "    string nombre;//los atributos son por defecto publico    \n",
        "};\n",
        "void setNombre(Persona p,string n){ p.nombre=n;}// la funciones son externas\n",
        "\n",
        "//#######################\n",
        "class CPersona{\n",
        "    string nombre;//los atributos son por defecto privado\n",
        "    public:\n",
        "    Persona(){}// es obligatorio un constructor por defecto\n",
        "    void setNombre(string n){ nombre=n;}// los métodos son internos a la clase\n",
        "};\n",
        "int main(){\n",
        "    SPersona sp1;\n",
        "    CPersona cp1;\n",
        "    return 0;\n",
        "}\n",
        "\n"
      ],
      "execution_count": null,
      "outputs": [
        {
          "output_type": "stream",
          "text": [
            "Writing struct.cpp\n"
          ],
          "name": "stdout"
        }
      ]
    },
    {
      "cell_type": "code",
      "metadata": {
        "id": "TA4LQKjv374I"
      },
      "source": [
        ""
      ],
      "execution_count": null,
      "outputs": []
    },
    {
      "cell_type": "markdown",
      "metadata": {
        "id": "Dcs5DggK4LJu"
      },
      "source": [
        "###Ejemplo TA2"
      ]
    },
    {
      "cell_type": "code",
      "metadata": {
        "id": "3KUS5RHu4PHs"
      },
      "source": [
        "%%writefile prog1.cpp\n",
        "void ordenar(vector<int> v){//1\n",
        "    int aux;//1\n",
        "    for(int i=0;i<v.size()-1;++i){//1+(n-1)(1+_______+2)+1\n",
        "     for(int j=i+1;j<v.size();++j){//1+(n-1)(1+______+2)+1\n",
        "        if(v[j]<v[i]){//3\n",
        "            aux=v[j];//2\n",
        "            v[j]=v[i];//3\n",
        "            v[i]=aux;//2\n",
        "        }        \n",
        "    }   \n",
        "    }\n",
        "}\n",
        "//detallado: -------\n",
        "//BigO=n^2"
      ],
      "execution_count": null,
      "outputs": []
    },
    {
      "cell_type": "markdown",
      "metadata": {
        "id": "9ojaChERCsWV"
      },
      "source": [
        "##Tarea Académica\n",
        "* Implementar con Templates las clases entidad del proyecto final de programación 2"
      ]
    }
  ]
}
