{
  "nbformat": 4,
  "nbformat_minor": 0,
  "metadata": {
    "colab": {
      "name": "Busqueda.ipynb",
      "provenance": [],
      "collapsed_sections": [],
      "authorship_tag": "ABX9TyPhRs6c7XZach4j9MAB1wVz"
    },
    "kernelspec": {
      "name": "python3",
      "display_name": "Python 3"
    },
    "language_info": {
      "name": "python"
    }
  },
  "cells": [
    {
      "cell_type": "code",
      "metadata": {
        "colab": {
          "base_uri": "https://localhost:8080/"
        },
        "id": "az3PKe4oAbAZ",
        "outputId": "965cde6a-8a16-4566-f10c-630f79855006"
      },
      "source": [
        "%%writefile busqueda.cpp\n",
        "#include <iostream>\n",
        "#include <vector>\n",
        "#include <functional>\n",
        "using namespace std;\n",
        "class Celular {\n",
        "    string modelo;\n",
        "    int anio;\n",
        "public:\n",
        "    Celular(string modelo = \"\", int anio = 2021) : modelo(modelo), anio(anio) {}\n",
        "    friend ostream& operator<<(ostream& os, const Celular& c) {\n",
        "        os << c.modelo << \" \" << c.anio << endl;\n",
        "        return os;\n",
        "    }\n",
        "    bool operator<(const Celular& c)const {\n",
        "        return this->anio < c.anio;\n",
        "    }\n",
        "    bool operator>(const Celular& c)const {\n",
        "        return this->anio > c.anio;\n",
        "    }\n",
        "};\n",
        "template<typename T>\n",
        "int binarySearch(const vector<T>& a, const T& x) {\n",
        "    int low = 0, high = a.size() - 1;\n",
        "    while (low <= high) {\n",
        "        int mid = (low + high) / 2;\n",
        "        if (a[mid] < x)\n",
        "            low = mid + 1;\n",
        "        else if (a[mid] > x)\n",
        "            high = mid - 1;\n",
        "        else\n",
        "            return mid; //found\n",
        "    }\n",
        "    return -1;\n",
        "}\n",
        "\n",
        "\n",
        "int main() {\n",
        "    vector<Celular> cel;\n",
        "    cel.push_back(Celular(\"Samsung\",15));\n",
        "    cel.push_back(Celular(\"LG\", 16));\n",
        "    cel.push_back(Celular(\"HUAWEI\", 17));\n",
        "    cel.push_back(Celular(\"Xiaomi\", 18));\n",
        "    cel.push_back(Celular(\"Nokia\", 19));\n",
        "    cel.push_back(Celular(\"ZTE\", 20));\n",
        "    cel.push_back(Celular(\"Blackberry\", 21));\n",
        "    Celular tmp = Celular(\"ZTE\", 20);\n",
        "    cout << binarySearch<Celular>(cel,tmp );\n",
        "\n",
        "    return 0;\n",
        "}\n",
        "\n"
      ],
      "execution_count": 1,
      "outputs": [
        {
          "output_type": "stream",
          "name": "stdout",
          "text": [
            "Writing busqueda.cpp\n"
          ]
        }
      ]
    },
    {
      "cell_type": "code",
      "metadata": {
        "id": "t8hUlF3fAn1t"
      },
      "source": [
        ""
      ],
      "execution_count": null,
      "outputs": []
    }
  ]
}