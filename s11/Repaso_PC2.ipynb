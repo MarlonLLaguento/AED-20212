{
  "nbformat": 4,
  "nbformat_minor": 0,
  "metadata": {
    "colab": {
      "name": "Repaso PC2.ipynb",
      "provenance": [],
      "authorship_tag": "ABX9TyNF+KHfmWrZYDT/LSMNA747"
    },
    "kernelspec": {
      "name": "python3",
      "display_name": "Python 3"
    },
    "language_info": {
      "name": "python"
    }
  },
  "cells": [
    {
      "cell_type": "markdown",
      "metadata": {
        "id": "bFqu_bt4_fgY"
      },
      "source": [
        "##Version 1"
      ]
    },
    {
      "cell_type": "code",
      "metadata": {
        "colab": {
          "base_uri": "https://localhost:8080/"
        },
        "id": "KMCOMcI2h98x",
        "outputId": "3d5a2dcc-ca37-4d85-c1ee-7ab70dd0c608"
      },
      "source": [
        "%%writefile demo.cpp\n",
        "#include <iostream>\n",
        "#include <string>\n",
        "#include <functional>\n",
        "#include <fstream>\n",
        "#include <list>\n",
        "using namespace std;\n",
        "class Register {\n",
        "\tstring apellido;\n",
        "\tstring nombre;\n",
        "\tshort edad;\n",
        "\tbool fumador;\n",
        "public:\n",
        "\tRegister(string nombre, string apellido, short edad, bool fumador) {\n",
        "\t\tthis->apellido = apellido;\n",
        "\t\tthis->nombre = nombre;\n",
        "\t\tthis->edad = edad;\n",
        "\t\tthis->fumador = fumador;\n",
        "\t}\n",
        "\tfriend ostream& operator<<(ostream& os, const Register& r) {\n",
        "\t\tos << r.nombre << \" \" << r.apellido << \" \" << r.edad << \" \" << r.fumador << endl;\n",
        "\t\treturn os;\n",
        "\t}\n",
        "\tbool operator<(const Register& r) {\n",
        "\t\treturn this->nombre.compare(r.nombre) <= 0;\n",
        "\t}\n",
        "\tbool operator>(const Register& r) {\n",
        "\t\treturn this->edad > r.edad;\n",
        "\t}\n",
        "};\n",
        "\n",
        "\n",
        "class Dataset {\n",
        "\tlist<Register> registros;\n",
        "public:\n",
        "\tDataset() {\n",
        "\t\treadTSV(\"Registros.csv\");\n",
        "\t}\n",
        "\tvoid readTSV(string name = \"\", bool header = true) {//campos separados por tab o espacios\n",
        "\t\tifstream file(name);\n",
        "\t\tstring reg, nombre, apellido, t_edad, t_fumador;\n",
        "\t\tshort edad;\n",
        "\t\tbool fumador;\n",
        "\t\tif (header)\n",
        "\t\t\tgetline(file, reg);\n",
        "\t\twhile (file >> nombre >> apellido >> t_edad >> t_fumador) {\n",
        "\t\t\tedad = stoi(t_edad);\n",
        "\t\t\tfumador = t_fumador[0] == 'Y';\n",
        "\t\t\tregistros.push_back(Register(nombre, apellido, edad, fumador));\n",
        "\t\t}\t\t\n",
        "\t}\n",
        "\tvoid readCSV(string name = \"\", bool header = true) {//campos separados por comas\n",
        "\t\tifstream file(name);\n",
        "\t\tstring reg, nombre, apellido, t_edad, t_fumador, dummy;\n",
        "\t\tshort edad;\n",
        "\t\tbool fumador;\n",
        "\t\tif (header)\n",
        "\t\t\tgetline(file, reg);\n",
        "\t\twhile (file >> nombre >> dummy >> apellido >> dummy >> t_edad >> dummy >> t_fumador) {\n",
        "\t\t\tedad = stoi(t_edad);\n",
        "\t\t\tfumador = t_fumador[0] == 'Y';\n",
        "\t\t\tregistros.push_back(Register(nombre, apellido, edad, fumador));\n",
        "\t\t}\n",
        "\t}\n",
        "\tvoid max() {\n",
        "\t\tRegister mayor = *registros.begin();\n",
        "\t\t//for (list<Register>::iterator it = registros.begin(); it != registros.end(); ++it) {\n",
        "\t\t\t//if (mayor < *it)\n",
        "\t\t\t\t//mayor = *it;\n",
        "\t\t//}\n",
        "\t\tfor (auto iterable : registros) {\n",
        "\t\t\tif (iterable > mayor) //compruebo la sobrecarga del operador <\n",
        "\t\t\t\tmayor = iterable;\t\t\n",
        "\t\t}\n",
        "\t\tcout << mayor;//compruebo la sobrecarga del operador <<\n",
        "\t}\n",
        "\tvoid min() {\n",
        "\t\tRegister menor = *registros.begin();\n",
        "\t\t//for (list<Register>::iterator it = registros.begin(); it != registros.end(); ++it) {\n",
        "\t\t\t//if (mayor < *it)\n",
        "\t\t\t\t//mayor = *it;\n",
        "\t\t//}\n",
        "\t\tfor (auto iterable : registros) {\n",
        "\t\t\tif (iterable < menor) //compruebo la sobrecarga del operador <\n",
        "\t\t\t\tmenor = iterable;\n",
        "\t\t}\n",
        "\t\tcout << menor;//compruebo la sobrecarga del operador <<\n",
        "\t}\n",
        "\tvoid print() {\n",
        "\t\t\n",
        "\t\tfor (auto iterable : registros) {\n",
        "\t\t\tcout << iterable;//compruebo la sobrecarga del operador <<\n",
        "\t\t}\n",
        "\t\t\n",
        "\t}\n",
        "\tvoid run1(function<void()> f) {\n",
        "\t\tf();\n",
        "\t}\n",
        "\tvoid run2(void(*f)()) {//puntero a funcion\n",
        "\t\tf();\n",
        "\t}\n",
        "\tvoid run3(void(*ptrFuncion)(string, double, float)) {\n",
        "\t\tptrFuncion(\"Roberto\",10.5,12.4);\n",
        "\t}\n",
        "};\n",
        "void funcion1() { cout << \"Funcion 1\" << endl; }\n",
        "void funcion2() { cout << \"Funcion 2\" << endl; }\n",
        "void funcion3(string a, double d, float f) {\n",
        "\tcout << \"Funcion 3\" << endl;\n",
        "\tcout << a << \" \" << d << \" \" << f << endl;\n",
        "}\n",
        "int main() {\n",
        "\tDataset ds;\t\n",
        "\t//ds.min();\n",
        "\t//ds.run1(funcion1);\n",
        "\t//ds.run1(funcion2);\n",
        "\tds.run2(funcion1);\n",
        "\tds.run2(funcion2);\n",
        "\tds.run3(funcion3);\n",
        "\t//cin.get();\n",
        "\treturn 0;\n",
        "}\n"
      ],
      "execution_count": null,
      "outputs": [
        {
          "output_type": "stream",
          "name": "stdout",
          "text": [
            "Overwriting demo.cpp\n"
          ]
        }
      ]
    },
    {
      "cell_type": "code",
      "metadata": {
        "colab": {
          "base_uri": "https://localhost:8080/"
        },
        "id": "hU-cXuxGiJti",
        "outputId": "0762bdb8-005b-4325-e098-7319c7806505"
      },
      "source": [
        "!g++ demo.cpp && ./a.out"
      ],
      "execution_count": null,
      "outputs": [
        {
          "output_type": "stream",
          "name": "stdout",
          "text": [
            "Funcion 1\n",
            "Funcion 2\n",
            "Funcion 3\n",
            "Roberto 10.5 12.4\n"
          ]
        }
      ]
    },
    {
      "cell_type": "markdown",
      "metadata": {
        "id": "0kQKy0hQ_lct"
      },
      "source": [
        "##Version 2"
      ]
    },
    {
      "cell_type": "code",
      "metadata": {
        "id": "9kN69-iziMir",
        "colab": {
          "base_uri": "https://localhost:8080/"
        },
        "outputId": "a7436e7f-e73e-4ac5-9284-9ab1c402e3d8"
      },
      "source": [
        "%%writefile prototipo.cpp\n",
        "//****************************************************Solution.hpp*************************************\n",
        "#include <iostream>\n",
        "#include <string>\n",
        "#include <functional>\n",
        "#include <fstream>\n",
        "#include <list>\n",
        "#include <unordered_map>// ht\n",
        "using namespace std;\n",
        "class Entidad {\n",
        "\t//Implementacion de entidad con templates\n",
        "};\n",
        "class HT {\n",
        "\t//Implementacion de hashtable  con templates\n",
        "\n",
        "};\n",
        "template <class Key, class Value>\n",
        "class Algorithms {\n",
        "\tunordered_map<Key, Value> ht;//reemplazar por la estructura Hashtable\n",
        "public:\n",
        "\tAlgorithms() {}\n",
        "\tvoid insert(Key llave, Value value) {\n",
        "\t\tpair<Key, Value> entidad(llave, value);//reemplazar pair por la clase entidad\n",
        "\t\tht.insert(entidad);\t\n",
        "\t}\n",
        "\tvoid print() {\n",
        "\t\tfor (auto& x : ht) {\n",
        "\t\t\tcout << \"Llave:\" << x.first << \"\\t Valor:\" << x.second << endl;//first= getKey(), second=getValue()\n",
        "\t\t}\n",
        "\t}\n",
        "\tValue min() {\n",
        "\t\tValue m = (* ht.begin()).second;\n",
        "\t\tfor (auto& x : ht) {\n",
        "\t\t\tif (x.second < m)\n",
        "\t\t\t\tm = x.second;\n",
        "\t\t}\n",
        "\t\treturn m;\n",
        "\t}\t\n",
        "\t/*\n",
        "\tImplementar los otros métodos\n",
        "\t\n",
        "\t*/\n",
        "};\n",
        "\n",
        "//****************************************************Solution.cpp*************************************\n",
        "\n",
        "class Register {\n",
        "\tstring apellido;\n",
        "\tstring nombre;\n",
        "\tshort edad;\n",
        "\tbool fumador;\n",
        "public:\n",
        "\tRegister(string nombre, string apellido, short edad, bool fumador) {\n",
        "\t\tthis->apellido = apellido;\n",
        "\t\tthis->nombre = nombre;\n",
        "\t\tthis->edad = edad;\n",
        "\t\tthis->fumador = fumador;\n",
        "\t}\n",
        "\tfriend ostream& operator<<(ostream& os, const Register& r) {\n",
        "\t\tos << r.nombre << \" \" << r.apellido << \" \" << r.edad << \" \" << r.fumador << endl;\n",
        "\t\treturn os;\n",
        "\t}\n",
        "\tbool operator<(const Register& r) {\n",
        "\t\treturn this->nombre.compare(r.nombre) <= 0;\n",
        "\t}\n",
        "\tbool operator>(const Register& r) {\n",
        "\t\treturn this->edad > r.edad;\n",
        "\t}\n",
        "};\n",
        "\n",
        "\n",
        "class Dataset {\n",
        "\tAlgorithms<long,Register> registros;\n",
        "public:\n",
        "\tDataset() {\n",
        "\t\treadTSV(\"Registros.csv\");\n",
        "\t}\n",
        "\tvoid readTSV(string name = \"\", bool header = true) {//campos separados por tab o espacios\n",
        "\t\tifstream file(name);\n",
        "\t\tstring reg, nombre, apellido, t_edad, t_fumador;\n",
        "\t\tshort edad;\n",
        "\t\tbool fumador;\n",
        "\t\tif (header)\n",
        "\t\t\tgetline(file, reg);\n",
        "\t\twhile (file >> nombre >> apellido >> t_edad >> t_fumador) {\n",
        "\t\t\tedad = stoi(t_edad);\n",
        "\t\t\tfumador = t_fumador[0] == 'Y';\n",
        "\t\t\tregistros.insert(rand()%1000, Register(nombre, apellido, edad, fumador));\n",
        "\t\t}\n",
        "\t}\n",
        "\tvoid readCSV(string name = \"\", bool header = true) {//campos separados por comas\n",
        "\t\tifstream file(name);\n",
        "\t\tstring reg, nombre, apellido, t_edad, t_fumador, dummy;\n",
        "\t\tshort edad;\n",
        "\t\tbool fumador;\n",
        "\t\tif (header)\n",
        "\t\t\tgetline(file, reg);\n",
        "\t\twhile (file >> nombre >> dummy >> apellido >> dummy >> t_edad >> dummy >> t_fumador) {\n",
        "\t\t\tedad = stoi(t_edad);\n",
        "\t\t\tfumador = t_fumador[0] == 'Y';\n",
        "\t\t\tregistros.insert(rand() % 1000, Register(nombre, apellido, edad, fumador));\n",
        "\t\t}\n",
        "\t}\n",
        "\t\n",
        "\tvoid print() {\n",
        "\t\tregistros.print();\n",
        "\t}\n",
        "\tvoid menor() {\n",
        "\t\tcout<<registros.min();\n",
        "\t}\n",
        "\tvoid run1(function<void()> f) {\n",
        "\t\tf();\n",
        "\t}\n",
        "\tvoid run2(void(*f)()) {//puntero a funcion\n",
        "\t\tf();\n",
        "\t}\n",
        "\tvoid run3(void(*ptrFuncion)(string, double, float)) {\n",
        "\t\tptrFuncion(\"Roberto\", 10.5, 12.4);\n",
        "\t}\n",
        "};\n",
        "void funcion1() { cout << \"Funcion 1\" << endl; }\n",
        "void funcion2() { cout << \"Funcion 2\" << endl; }\n",
        "void funcion3(string a, double d, float f) {\n",
        "\tcout << \"Funcion 3\" << endl;\n",
        "\tcout << a << \" \" << d << \" \" << f << endl;\n",
        "}\n",
        "int main() {\n",
        "\tDataset ds;\n",
        "\tds.print();\n",
        "\tds.menor();\n",
        "\tcin.get();\n",
        "\treturn 0;\n",
        "}"
      ],
      "execution_count": 5,
      "outputs": [
        {
          "output_type": "stream",
          "name": "stdout",
          "text": [
            "Overwriting prototipo.cpp\n"
          ]
        }
      ]
    },
    {
      "cell_type": "code",
      "metadata": {
        "id": "Pwi_utBpnfdW"
      },
      "source": [
        "!g++ prototipo.cpp && ./a.out"
      ],
      "execution_count": 6,
      "outputs": []
    },
    {
      "cell_type": "code",
      "metadata": {
        "id": "y8hAQTtM_SIt"
      },
      "source": [
        ""
      ],
      "execution_count": null,
      "outputs": []
    }
  ]
}