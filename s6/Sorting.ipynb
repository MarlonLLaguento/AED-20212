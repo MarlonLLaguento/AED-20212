{
  "nbformat": 4,
  "nbformat_minor": 0,
  "metadata": {
    "colab": {
      "name": "Sorting.ipynb",
      "provenance": [],
      "collapsed_sections": []
    },
    "kernelspec": {
      "name": "python3",
      "display_name": "Python 3"
    },
    "language_info": {
      "name": "python"
    }
  },
  "cells": [
    {
      "cell_type": "code",
      "metadata": {
        "id": "c2U2SgoqkzWY",
        "colab": {
          "base_uri": "https://localhost:8080/"
        },
        "outputId": "09de07b1-5ec2-4ae3-a3d3-06c5c180945e"
      },
      "source": [
        "%%writefile ordenamientos.hpp\n",
        "template<typename T>\n",
        "void swap(T*a, T*b){\n",
        "  T t=*a;\n",
        "  *a=*b;\n",
        "  *b=t;\n",
        "}\n",
        "template<typename T>\n",
        "void bubbleSort(T*arr, unsigned int n, function<bool(T,T)>cmp){ \n",
        "  for(size_t i=0; i<n-1;i++){\n",
        "    for(size_t j=0;j<n-1-i;j++){\n",
        "      if(cmp(arr[j],arr[j+1])){\n",
        "        swap(&arr[j],&arr[j+1]);\n",
        "        }\n",
        "    }\n",
        "}\n",
        "}\n",
        "template<typename T>\n",
        "void exchangeSort(T*arr, unsigned int n, function<bool(T,T)>cmp){ \n",
        "  for(size_t i=0; i<n-1;i++){\n",
        "    for(size_t j=i+1;j<n;j++){\n",
        "      if(cmp(arr[i],arr[j])){\n",
        "        swap(&arr[i],&arr[j]);\n",
        "        }\n",
        "    }\n",
        "}\n",
        "}\n",
        "template<typename T>\n",
        "void show(T*arr, unsigned int n, function<void(T)> lqs){ \n",
        "  for(size_t i=0; i<n;i++){\n",
        "        lqs(arr[i]);\n",
        "  }\n",
        "}\n",
        "\n"
      ],
      "execution_count": 102,
      "outputs": [
        {
          "output_type": "stream",
          "name": "stdout",
          "text": [
            "Overwriting ordenamientos.hpp\n"
          ]
        }
      ]
    },
    {
      "cell_type": "code",
      "metadata": {
        "id": "t9DhsbAJl0mQ",
        "colab": {
          "base_uri": "https://localhost:8080/"
        },
        "outputId": "1b086429-5ace-4166-e0ba-142f11ed9338"
      },
      "source": [
        "%%writefile repaso.cpp\n",
        "#include <iostream>\n",
        "#include <functional>\n",
        "#include<ctime>\n",
        "#include <fstream>\n",
        "using namespace std;\n",
        "#include \"ordenamientos.hpp\"\n",
        "void test01(){\n",
        "   srand(time(0));    \n",
        "  int* arr = new int [100];\n",
        "  for (size_t i=0; i<100;i++){\n",
        "    arr[i] = rand() % 200 + 1;\n",
        "  }\n",
        "  auto l1=[](int e){cout<<e<<\" \";};\n",
        "  show<int>(arr,100,l1);\n",
        "  cout<<endl;\n",
        "  bubbleSort<int>(arr,100,[](int a, int b){   return a>b;}); \n",
        "  \n",
        "  show<int>(arr,100,l1);\n",
        "}\n",
        "void test02(){\n",
        "    string* arr = new string [7];\n",
        "      arr[0]=\"Miguel\";\n",
        "      arr[1]=\"Ana\";\n",
        "      arr[2]=\"Cesar\";\n",
        "      arr[3]=\"Fidel\";\n",
        "      arr[4]=\"William\";\n",
        "      arr[5]=\"Wilder\";\n",
        "      arr[6]=\"Wilson\";      \n",
        "    auto l1=[](string e){cout<<e<<\" \";};\n",
        "    show<string>(arr,7,l1);\n",
        "    cout<<endl;\n",
        "    bubbleSort<string>(arr,7,[](string a, string b){return a.compare(b)>0;});\n",
        "    show<string>(arr,7,l1);\n",
        "}\n",
        "struct Paciente{\n",
        "    string nombre;\n",
        "    long dni;\n",
        "    float temperatura;\n",
        "    char asegurado;\n",
        "    Paciente(string n=\"\",long d=0l, float t=0.0f,char a=' '):nombre(n),dni(d), temperatura(t),asegurado(a){}    \n",
        "};\n",
        "void toString(Paciente p){\n",
        "    cout<<p.nombre<<\"\\t\"<<p.dni<<\"\\t\"<<p.temperatura<<\"\\t\"<<p.asegurado<<endl;\n",
        "}\n",
        "void test03(){\n",
        "    Paciente* pacientes=new Paciente[5];\n",
        "    pacientes[0]=Paciente(\"Juan\",10315678,28.9,'S');\n",
        "    pacientes[1]=Paciente(\"Ana\",12345987,26.4,'N');\n",
        "    pacientes[2]=Paciente(\"Fidel\",12378456,27.1,'S');\n",
        "    pacientes[3]=Paciente(\"Alberto\",45678789,28.2,'N');\n",
        "    pacientes[4]=Paciente(\"Sofia\",45678456,27.6,'S');\n",
        "    show<Paciente>(pacientes,5,toString);\n",
        "    cout<<\"\\nOrdenando por Nombres\"<<endl;\n",
        "    bubbleSort<Paciente>(pacientes,5,[](Paciente a, Paciente b){return a.nombre.compare(b.nombre)>0;});\n",
        "    show<Paciente>(pacientes,5,toString);\n",
        "    cout<<\"\\nOrdenando por DNI\"<<endl;\n",
        "    exchangeSort<Paciente>(pacientes,5,[](Paciente a, Paciente b){return a.dni>b.dni;});\n",
        "    show<Paciente>(pacientes,5,toString);\n",
        "    cout<<\"\\nOrdenando por temperatura\"<<endl;\n",
        "    bubbleSort<Paciente>(pacientes,5,[](Paciente a, Paciente b){return a.temperatura>b.temperatura;});\n",
        "    show<Paciente>(pacientes,5,toString);\n",
        "    cout<<\"\\nOrdenando por estado\"<<endl;\n",
        "    bubbleSort<Paciente>(pacientes,5,[](Paciente a, Paciente b){return a.asegurado>b.asegurado;});\n",
        "    show<Paciente>(pacientes,5,toString);\n",
        "\n",
        "\n",
        "\n",
        "    std::ofstream arch(\"Pacientes.tsv\");\n",
        "\n",
        "    for(size_t i=0;i<5;++i){\n",
        "        Paciente p=pacientes[i];\n",
        "        arch<<p.nombre<<\"\\t\"<<p.dni<<\"\\t\"<<p.temperatura<<\"\\t\"<<p.asegurado<<endl;\n",
        "    }\n",
        "        \n",
        "    arch.close();    \n",
        "    \n",
        "}\n",
        "int main(){\n",
        "    \n",
        "   test03();\n",
        "\n",
        "return 0;\n",
        "}"
      ],
      "execution_count": 103,
      "outputs": [
        {
          "output_type": "stream",
          "name": "stdout",
          "text": [
            "Overwriting repaso.cpp\n"
          ]
        }
      ]
    },
    {
      "cell_type": "code",
      "metadata": {
        "id": "2t7SmXFhl1SM",
        "colab": {
          "base_uri": "https://localhost:8080/"
        },
        "outputId": "7b5c75bd-2a78-40dd-915e-e42db0ba0efe"
      },
      "source": [
        "!g++ repaso.cpp && ./a.out"
      ],
      "execution_count": 104,
      "outputs": [
        {
          "output_type": "stream",
          "name": "stdout",
          "text": [
            "Juan\t10315678\t28.9\tS\n",
            "Ana\t12345987\t26.4\tN\n",
            "Fidel\t12378456\t27.1\tS\n",
            "Alberto\t45678789\t28.2\tN\n",
            "Sofia\t45678456\t27.6\tS\n",
            "\n",
            "Ordenando por Nombres\n",
            "Alberto\t45678789\t28.2\tN\n",
            "Ana\t12345987\t26.4\tN\n",
            "Fidel\t12378456\t27.1\tS\n",
            "Juan\t10315678\t28.9\tS\n",
            "Sofia\t45678456\t27.6\tS\n",
            "\n",
            "Ordenando por DNI\n",
            "Juan\t10315678\t28.9\tS\n",
            "Ana\t12345987\t26.4\tN\n",
            "Fidel\t12378456\t27.1\tS\n",
            "Sofia\t45678456\t27.6\tS\n",
            "Alberto\t45678789\t28.2\tN\n",
            "\n",
            "Ordenando por temperatura\n",
            "Ana\t12345987\t26.4\tN\n",
            "Fidel\t12378456\t27.1\tS\n",
            "Sofia\t45678456\t27.6\tS\n",
            "Alberto\t45678789\t28.2\tN\n",
            "Juan\t10315678\t28.9\tS\n",
            "\n",
            "Ordenando por estado\n",
            "Ana\t12345987\t26.4\tN\n",
            "Alberto\t45678789\t28.2\tN\n",
            "Fidel\t12378456\t27.1\tS\n",
            "Sofia\t45678456\t27.6\tS\n",
            "Juan\t10315678\t28.9\tS\n"
          ]
        }
      ]
    },
    {
      "cell_type": "code",
      "metadata": {
        "colab": {
          "base_uri": "https://localhost:8080/"
        },
        "id": "_In3KtmDqu4t",
        "outputId": "74430666-8cf8-4268-da1b-8c62bf2e6009"
      },
      "source": [
        "%%writefile vector.hpp\n",
        "\n",
        "#include<functional>\n",
        "using namespace std;\n",
        "template<class T>\n",
        "class Vector{\n",
        "    T* arr;\n",
        "    int size;\n",
        "    int capacity;\n",
        "  public:\n",
        "    Vector(){\n",
        "        capacity=5;\n",
        "        size=0;\n",
        "        arr=new T[capacity];\n",
        "    }\n",
        "    void autoincrement(){\n",
        "            capacity*=1.2;\n",
        "            T* aux=new T[capacity];\n",
        "            for(size_t i=0;i<size;++i)\n",
        "                aux[i]=arr[i];\n",
        "            delete arr;\n",
        "            arr=aux;            \n",
        "    }\n",
        "    void push_back(T element){\n",
        "        if(size==capacity)\n",
        "          autoincrement();\n",
        "        if(size<capacity)\n",
        "          arr[size++]=element;                    \n",
        "    }\n",
        "\n",
        "\n",
        "void swap(T* a, T* b){\n",
        "    T aux=*a;\n",
        "    *a=*b;\n",
        "    *b=aux;\n",
        "}\n",
        "\n",
        "void exchangeSort(function<bool(T,T)>c){\n",
        "    for(size_t i=0;i<size-1;++i){\n",
        "        for(size_t j=i+1;j<size;++j){\n",
        "            if(c(arr[i],arr[j]))\n",
        "            {swap(&arr[i],&arr[j]);}\n",
        "        }\n",
        "    }\n",
        "}\n",
        "\n",
        "void Show(function<void(T)>c){\n",
        "    for(size_t i=0;i<size;++i){\n",
        "        c(arr[i]);\n",
        "    }\n",
        "}\n",
        "\n",
        "void bubbleSort(function<bool(T,T)>c){\n",
        "    for(size_t i=0;i<size-1;++i){\n",
        "        for(size_t j=i+1;j<size-1-i;++j){\n",
        "            if(c(arr[j],arr[j+1]))\n",
        "            swap(&arr[j],&arr[j+1]);\n",
        "        }\n",
        "    }\n",
        "}\n",
        "\n",
        "};\n",
        "\n"
      ],
      "execution_count": 105,
      "outputs": [
        {
          "output_type": "stream",
          "name": "stdout",
          "text": [
            "Writing vector.hpp\n"
          ]
        }
      ]
    },
    {
      "cell_type": "code",
      "metadata": {
        "id": "hdXHVJ9TA71v"
      },
      "source": [
        ""
      ],
      "execution_count": null,
      "outputs": []
    }
  ]
}