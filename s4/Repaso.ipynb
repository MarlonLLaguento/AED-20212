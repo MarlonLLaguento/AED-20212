{
  "nbformat": 4,
  "nbformat_minor": 0,
  "metadata": {
    "colab": {
      "name": "Repaso.ipynb",
      "provenance": [],
      "authorship_tag": "ABX9TyO2Ll4h++pGqO6hsK3v97e8"
    },
    "kernelspec": {
      "name": "python3",
      "display_name": "Python 3"
    },
    "language_info": {
      "name": "python"
    }
  },
  "cells": [
    {
      "cell_type": "code",
      "metadata": {
        "colab": {
          "base_uri": "https://localhost:8080/"
        },
        "id": "aMlysyqBqlMS",
        "outputId": "1bd6e80e-065e-4eb8-8031-ca1b94945d2e"
      },
      "source": [
        "%%writefile repaso.cpp\n",
        "#include <string>\n",
        "#include <iostream>\n",
        "#include <functional>\n",
        "using namespace std;\n",
        "class Lambda{\n",
        "    public:\n",
        "    Lambda(){}\n",
        "    void ejecuta(string s,function<void(string)> f){\n",
        "      f(s);  \n",
        "    }\n",
        "    void definir(){\n",
        "      string mensaje=\"UPC, exigete e innova\";\n",
        "\n",
        "      auto l1=[](string s){cout<<s<<endl;};\n",
        "      ejecuta(mensaje,l1);\n",
        "\n",
        "      auto l2=[](string s){\n",
        "          short c=0;\n",
        "          for(size_t i=0;i<s.length();++i)\n",
        "           ++c;\n",
        "          cout<<\"La cantidad de caracteres es:\"<<c<<endl;};\n",
        "      ejecuta(mensaje,l2);\n",
        "\n",
        "      auto l3=[](string s){\n",
        "          short c=0;\n",
        "          for(size_t i=0;i<s.length();++i)\n",
        "          if(s[i]>=65&&s[i]<=90)\n",
        "            ++c;\n",
        "          cout<<\"La cantidad de maysuculas es:\"<<c<<endl;};\n",
        "      ejecuta(mensaje,l3);\n",
        "\n",
        "\n",
        "    }\n",
        "};\n",
        "int main(){\n",
        "    Lambda l1;\n",
        "    l1.definir();\n",
        "\n",
        "}"
      ],
      "execution_count": 19,
      "outputs": [
        {
          "output_type": "stream",
          "name": "stdout",
          "text": [
            "Overwriting repaso.cpp\n"
          ]
        }
      ]
    },
    {
      "cell_type": "code",
      "metadata": {
        "colab": {
          "base_uri": "https://localhost:8080/"
        },
        "id": "gq4iIZEFtVEF",
        "outputId": "b461949f-245a-425a-ae8a-413ba6734ccd"
      },
      "source": [
        "!g++ repaso.cpp && ./a.out"
      ],
      "execution_count": 20,
      "outputs": [
        {
          "output_type": "stream",
          "name": "stdout",
          "text": [
            "UPC, exigete e innova\n",
            "La cantidad de caracteres es:21\n",
            "La cantidad de maysuculas es:3\n"
          ]
        }
      ]
    },
    {
      "cell_type": "code",
      "metadata": {
        "colab": {
          "base_uri": "https://localhost:8080/"
        },
        "id": "p_63AC9stYfv",
        "outputId": "f31e9a50-84f5-4426-ef7d-6339726fab30"
      },
      "source": [
        "%%writefile repaso.cpp\n",
        "#include <string>\n",
        "#include <iostream>\n",
        "#include <functional>\n",
        "using namespace std;\n",
        "class Lambda{\n",
        "    public:\n",
        "    Lambda(){}\n",
        "    void ejecuta(string s,function<void(string)> f){\n",
        "      f(s);  \n",
        "    }   \n",
        "};\n",
        "int main(){\n",
        "    Lambda objlambda;\n",
        "    string mensaje=\"UPC, exigete e innova\";\n",
        "    auto l1=[](string s){cout<<s<<endl;};\n",
        "    objlambda.ejecuta(mensaje,l1);\n",
        "\n",
        "    auto l2=[](string s){\n",
        "          short c=0;\n",
        "          for(size_t i=0;i<s.length();++i)\n",
        "           ++c;\n",
        "          cout<<\"La cantidad de caracteres es:\"<<c<<endl;};\n",
        "    objlambda.ejecuta(mensaje,l2);\n",
        "\n",
        "      auto l3=[](string s){\n",
        "          short c=0;\n",
        "          for(size_t i=0;i<s.length();++i)\n",
        "          if(s[i]>=65&&s[i]<=90)\n",
        "            ++c;\n",
        "          cout<<\"La cantidad de maysuculas es:\"<<c<<endl;};\n",
        "    objlambda.ejecuta(mensaje,l3);\n",
        "}"
      ],
      "execution_count": 21,
      "outputs": [
        {
          "output_type": "stream",
          "name": "stdout",
          "text": [
            "Overwriting repaso.cpp\n"
          ]
        }
      ]
    },
    {
      "cell_type": "code",
      "metadata": {
        "colab": {
          "base_uri": "https://localhost:8080/"
        },
        "id": "GB6OdaCxv8BU",
        "outputId": "79a48f31-12da-446f-ed4f-5feb930777c6"
      },
      "source": [
        "!g++ repaso.cpp && ./a.out"
      ],
      "execution_count": 22,
      "outputs": [
        {
          "output_type": "stream",
          "name": "stdout",
          "text": [
            "UPC, exigete e innova\n",
            "La cantidad de caracteres es:21\n",
            "La cantidad de maysuculas es:3\n"
          ]
        }
      ]
    },
    {
      "cell_type": "code",
      "metadata": {
        "colab": {
          "base_uri": "https://localhost:8080/"
        },
        "id": "fVlfSWq4v-Ck",
        "outputId": "fa8bd60d-9262-48b1-fbf6-056643ba92f7"
      },
      "source": [
        "%%writefile repaso.cpp\n",
        "#include <string>\n",
        "#include <iostream>\n",
        "#include <functional>\n",
        "using namespace std;\n",
        "class Lambda{    \n",
        "    public:\n",
        "    Lambda(){}\n",
        "    void ejecuta(string s,function<void(string)> f){\n",
        "      f(s);  \n",
        "    }   \n",
        "};\n",
        "class Controlador{\n",
        "    private:\n",
        "        string mensaje;\n",
        "        Lambda* objlambda1;\n",
        "        Lambda* objlambda2;\n",
        "        Lambda* objlambda3;\n",
        "\n",
        "    public:\n",
        "    Controlador(){\n",
        "        mensaje=\"UPC, exigete e innova\";\n",
        "        objlambda1=new Lambda();\n",
        "        objlambda2=new Lambda();\n",
        "        objlambda3=new Lambda();\n",
        "      }\n",
        "    void funcion1(){      \n",
        "      auto l1=[](string s){cout<<s<<endl;};\n",
        "      objlambda1->ejecuta(mensaje,l1);    \n",
        "    }\n",
        "    void funcion2(){\n",
        "    auto l2=[](string s){\n",
        "          short c=0;\n",
        "          for(size_t i=0;i<s.length();++i)\n",
        "           ++c;\n",
        "          cout<<\"La cantidad de caracteres es:\"<<c<<endl;};\n",
        "      objlambda2->ejecuta(mensaje,l2);\n",
        "    }\n",
        "    void funcion3(){\n",
        "      auto l3=[](string s){\n",
        "          short c=0;\n",
        "          for(size_t i=0;i<s.length();++i)\n",
        "          if(s[i]>=65&&s[i]<=90)\n",
        "            ++c;\n",
        "          cout<<\"La cantidad de maysuculas es:\"<<c<<endl;};\n",
        "        objlambda3->ejecuta(mensaje,l3);  \n",
        "    }\n",
        "};\n",
        "int main(){\n",
        "    Controlador c;\n",
        "    c.funcion1();\n",
        "    c.funcion2();\n",
        "    c.funcion3();\n",
        "}"
      ],
      "execution_count": 25,
      "outputs": [
        {
          "output_type": "stream",
          "name": "stdout",
          "text": [
            "Overwriting repaso.cpp\n"
          ]
        }
      ]
    },
    {
      "cell_type": "code",
      "metadata": {
        "colab": {
          "base_uri": "https://localhost:8080/"
        },
        "id": "4YNEkz6FxWGm",
        "outputId": "51e2677d-e3c1-483c-f651-80be4132523f"
      },
      "source": [
        "!g++ repaso.cpp && ./a.out"
      ],
      "execution_count": 26,
      "outputs": [
        {
          "output_type": "stream",
          "name": "stdout",
          "text": [
            "UPC, exigete e innova\n",
            "La cantidad de caracteres es:21\n",
            "La cantidad de maysuculas es:3\n"
          ]
        }
      ]
    },
    {
      "cell_type": "code",
      "metadata": {
        "colab": {
          "base_uri": "https://localhost:8080/"
        },
        "id": "abbPUSl7xYqG",
        "outputId": "bfe9dfb2-c0e7-487e-dc5f-23f4a0818b03"
      },
      "source": [
        "%%writefile repaso.cpp\n",
        "#include <string>\n",
        "#include <iostream>\n",
        "#include <functional>\n",
        "using namespace std;\n",
        "class Lambda{    \n",
        "    private:\n",
        "      string s;\n",
        "      function<void(string)> f;//funcion como atributo de clase\n",
        "    public:\n",
        "    Lambda(string s, function<void(string)> f){\n",
        "        this->s=s;\n",
        "        this->f=f;\n",
        "    }\n",
        "    void ejecuta(){\n",
        "        f(s);  \n",
        "    }   \n",
        "};\n",
        "class Controlador{\n",
        "    private:\n",
        "        string mensaje;\n",
        "        Lambda* objlambda1;\n",
        "        Lambda* objlambda2;\n",
        "        Lambda* objlambda3;\n",
        "\n",
        "    public:\n",
        "    Controlador(){\n",
        "        mensaje=\"UPC, exigete e innova\";         \n",
        "      }\n",
        "    void funcion1(){  \n",
        "      auto l1=[](string s){cout<<s<<endl;};  \n",
        "      objlambda1=new Lambda(mensaje,l1);      \n",
        "      objlambda1->ejecuta();    \n",
        "    }\n",
        "    void funcion2(){\n",
        "    auto l2=[](string s){\n",
        "          short c=0;\n",
        "          for(size_t i=0;i<s.length();++i)\n",
        "           ++c;\n",
        "          cout<<\"La cantidad de caracteres es:\"<<c<<endl;};\n",
        "      objlambda2=new Lambda(mensaje,l2);      \n",
        "      objlambda2->ejecuta();\n",
        "    }\n",
        "    void funcion3(){\n",
        "      auto l3=[](string s){\n",
        "          short c=0;\n",
        "          for(size_t i=0;i<s.length();++i)\n",
        "          if(s[i]>=65&&s[i]<=90)\n",
        "            ++c;\n",
        "          cout<<\"La cantidad de maysuculas es:\"<<c<<endl;};\n",
        "      objlambda3=new Lambda(mensaje,l3);      \n",
        "      objlambda3->ejecuta();\n",
        "    }\n",
        "};\n",
        "int main(){\n",
        "    Controlador c;\n",
        "    c.funcion1();\n",
        "    c.funcion2();\n",
        "    c.funcion3();\n",
        "}"
      ],
      "execution_count": 29,
      "outputs": [
        {
          "output_type": "stream",
          "name": "stdout",
          "text": [
            "Overwriting repaso.cpp\n"
          ]
        }
      ]
    },
    {
      "cell_type": "code",
      "metadata": {
        "colab": {
          "base_uri": "https://localhost:8080/"
        },
        "id": "slHY_pnQzaoc",
        "outputId": "7f77dd22-c001-4f8e-cecc-023bca5a6244"
      },
      "source": [
        "!g++ repaso.cpp && ./a.out"
      ],
      "execution_count": 30,
      "outputs": [
        {
          "output_type": "stream",
          "name": "stdout",
          "text": [
            "UPC, exigete e innova\n",
            "La cantidad de caracteres es:21\n",
            "La cantidad de maysuculas es:3\n"
          ]
        }
      ]
    },
    {
      "cell_type": "code",
      "metadata": {
        "colab": {
          "base_uri": "https://localhost:8080/"
        },
        "id": "AfA8J0cLzdX4",
        "outputId": "15b1ef84-d152-438f-8e84-9ee36e9cac79"
      },
      "source": [
        "%%writefile repaso.cpp\n",
        "#include <string>\n",
        "#include <iostream>\n",
        "#include <functional>\n",
        "using namespace std;\n",
        "template <class T>\n",
        "class Lambda{    \n",
        "    private:\n",
        "      T s;\n",
        "      function<void(T)> f;//funcion como atributo de clase\n",
        "    public:\n",
        "    Lambda(T s, function<void(T)> f){\n",
        "        this->s=s;\n",
        "        this->f=f;\n",
        "    }\n",
        "    void ejecuta(){\n",
        "        f(s);  \n",
        "    }   \n",
        "};\n",
        "class Controlador{\n",
        "    private:\n",
        "        string mensaje;\n",
        "        Lambda<string>* objlambda1;\n",
        "        Lambda<string>* objlambda2;\n",
        "        Lambda<string>* objlambda3;\n",
        "\n",
        "    public:\n",
        "    Controlador(){\n",
        "        mensaje=\"UPC, exigete e innova\";         \n",
        "      }\n",
        "    void funcion1(){  \n",
        "      auto l1=[](string s){cout<<s<<endl;};  \n",
        "      objlambda1=new Lambda<string>(mensaje,l1);      \n",
        "      objlambda1->ejecuta();    \n",
        "    }\n",
        "    void funcion2(){\n",
        "    auto l2=[](string s){\n",
        "          short c=0;\n",
        "          for(size_t i=0;i<s.length();++i)\n",
        "           ++c;\n",
        "          cout<<\"La cantidad de caracteres es:\"<<c<<endl;};\n",
        "      objlambda2=new Lambda<string>(mensaje,l2);      \n",
        "      objlambda2->ejecuta();\n",
        "    }\n",
        "    void funcion3(){\n",
        "      auto l3=[](string s){\n",
        "          short c=0;\n",
        "          for(size_t i=0;i<s.length();++i)\n",
        "          if(s[i]>=65&&s[i]<=90)\n",
        "            ++c;\n",
        "          cout<<\"La cantidad de maysuculas es:\"<<c<<endl;};\n",
        "      objlambda3=new Lambda<string>(mensaje,l3);      \n",
        "      objlambda3->ejecuta();\n",
        "    }\n",
        "};\n",
        "int main(){\n",
        "    Controlador c;\n",
        "    c.funcion1();\n",
        "    c.funcion2();\n",
        "    c.funcion3();\n",
        "}"
      ],
      "execution_count": 31,
      "outputs": [
        {
          "output_type": "stream",
          "name": "stdout",
          "text": [
            "Overwriting repaso.cpp\n"
          ]
        }
      ]
    },
    {
      "cell_type": "code",
      "metadata": {
        "colab": {
          "base_uri": "https://localhost:8080/"
        },
        "id": "fJfDw-Ra0GBr",
        "outputId": "f694d0f3-4737-4fb9-ff8b-7a93571ce59e"
      },
      "source": [
        "!g++ repaso.cpp && ./a.out"
      ],
      "execution_count": 32,
      "outputs": [
        {
          "output_type": "stream",
          "name": "stdout",
          "text": [
            "UPC, exigete e innova\n",
            "La cantidad de caracteres es:21\n",
            "La cantidad de maysuculas es:3\n"
          ]
        }
      ]
    },
    {
      "cell_type": "code",
      "metadata": {
        "id": "m3BXde240ISj"
      },
      "source": [
        ""
      ],
      "execution_count": null,
      "outputs": []
    }
  ]
}