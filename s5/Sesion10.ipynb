{
  "nbformat": 4,
  "nbformat_minor": 0,
  "metadata": {
    "colab": {
      "name": "Sesion10.ipynb",
      "provenance": [],
      "authorship_tag": "ABX9TyMKuCE3NNKHGYhRnQ4ZFdfB"
    },
    "kernelspec": {
      "name": "python3",
      "display_name": "Python 3"
    },
    "language_info": {
      "name": "python"
    }
  },
  "cells": [
    {
      "cell_type": "code",
      "metadata": {
        "colab": {
          "base_uri": "https://localhost:8080/"
        },
        "id": "-PgcmWwsgTHs",
        "outputId": "d2554227-2c57-49e6-f4a2-2b2c369ecc8f"
      },
      "source": [
        "%%writefile Cola.cpp\n",
        "#include <iostream>\n",
        "#include <cstdlib>\n",
        "#include <functional>\n",
        "#define NULO 0\n",
        "using namespace std;\n",
        "template <typename Tipo>\n",
        "struct Nodo{\n",
        "    Tipo elemento;\n",
        "    Nodo<Tipo>* siguiente;\n",
        "    Nodo<Tipo>* anterior;\n",
        "    Nodo(Tipo e){elemento=e;\n",
        "                 siguiente=anterior=nullptr;\n",
        "        }\n",
        "};\n",
        "template <typename Tipo>\n",
        "class Cola{\n",
        "    Nodo<Tipo>* inicio;\n",
        "    Nodo<Tipo>* fin;\n",
        "    long cantidad;\n",
        "    public:\n",
        "    Cola(){\n",
        "        fin=inicio=nullptr;        \n",
        "        cantidad=0;\n",
        "    }       \n",
        "    void push(Tipo e){    //O(1)    \n",
        "    Nodo<Tipo>* n=new Nodo<Tipo>(e);\n",
        "        if(inicio==nullptr)\n",
        "            inicio=fin=n;\n",
        "        else {\n",
        "          fin->siguiente=n;\n",
        "          n->anterior=fin;\n",
        "          fin=n;\n",
        "        }\n",
        "        ++cantidad;\n",
        "    }\n",
        "    void pop(){\n",
        "        if(inicio==nullptr) return;\n",
        "         Nodo<Tipo>* aux=inicio;\n",
        "        if(cantidad==1)            \n",
        "            inicio=fin=nullptr;                    \n",
        "        else{           \n",
        "            inicio=inicio->siguiente;\n",
        "            inicio->anterior=nullptr;                        \n",
        "            }\n",
        "        delete aux;\n",
        "        --cantidad;\n",
        "    }\n",
        "    Tipo front() {\n",
        "\t\tif (cantidad> 0) return inicio->elemento;\t\t\n",
        "    else return NULO;\n",
        "\t  }\n",
        "    void front(function<void(Tipo)> fFront) {\n",
        "\t\t  if (cantidad> 0)\n",
        "\t\t\t    fFront(inicio->elemento);\n",
        "\t  }\n",
        "    bool empty(){\n",
        "        return cantidad==0;        \n",
        "    }\n",
        "    int size(){ return cantidad; }\n",
        "};\n",
        "class Virus{\n",
        "  string nombre;\n",
        "  short idx;\n",
        "  public:\n",
        "  Virus(string nombre,short idx):nombre(nombre),idx(idx){}\n",
        "  string toString(){return nombre+\" \"+to_string(idx)+\"\\n\";}\n",
        "  string getNombre(){return nombre;}\n",
        "};\n",
        "\n",
        "void ejemplo1(){\n",
        "    Cola<int> ls;    \n",
        "    ls.push(15);\n",
        "    ls.push(25);\n",
        "    ls.push(35);\n",
        "    ls.push(45);\n",
        "    ls.push(55);       \n",
        "    while(!ls.empty()){\n",
        "      cout<<ls.front()<<endl;\n",
        "      ls.pop();   \n",
        "    }    \n",
        "    //ls.front([](int x){cout<<x<<endl;});\n",
        "}\n",
        "void ejemplo2(){\n",
        "    Cola<Virus*> ls;   \n",
        "    ls.push(new Virus(\"Covid\",1));\n",
        "    ls.push(new Virus(\"Influenza\",2));\n",
        "    ls.push(new Virus(\"Colera\",3));     \n",
        "    while(!ls.empty()){\n",
        "      ls.front([](Virus* v){cout<<v->toString();});    \n",
        "      ls.pop();\n",
        "    }    \n",
        "    cout<<ls.size()<<endl;\n",
        "}\n",
        "int main(){\n",
        "    ejemplo2();\n",
        "}"
      ],
      "execution_count": 24,
      "outputs": [
        {
          "output_type": "stream",
          "name": "stdout",
          "text": [
            "Overwriting Cola.cpp\n"
          ]
        }
      ]
    },
    {
      "cell_type": "code",
      "metadata": {
        "colab": {
          "base_uri": "https://localhost:8080/"
        },
        "id": "dprF3rhk0HLj",
        "outputId": "12ff8def-42d2-4a05-892e-64c0c6cb0148"
      },
      "source": [
        "!g++ Cola.cpp && ./a.out"
      ],
      "execution_count": 25,
      "outputs": [
        {
          "output_type": "stream",
          "name": "stdout",
          "text": [
            "Covid 1\n",
            "Influenza 2\n",
            "Colera 3\n",
            "0\n"
          ]
        }
      ]
    },
    {
      "cell_type": "code",
      "metadata": {
        "colab": {
          "base_uri": "https://localhost:8080/"
        },
        "id": "Ioa8809M0Myz",
        "outputId": "1790d6c2-277e-4870-d0db-211505b5dd47"
      },
      "source": [
        "%%writefile Pilas.cpp\n",
        "#include <iostream>\n",
        "#include <cstdlib>\n",
        "#include <functional>\n",
        "#include <stack>\n",
        "using namespace std;\n",
        "class Virus{\n",
        "  string nombre;\n",
        "  short idx;\n",
        "  public:\n",
        "  Virus(string nombre,short idx):nombre(nombre),idx(idx){}\n",
        "  string toString(){return nombre+\" \"+to_string(idx)+\"\\n\";}\n",
        "  string getNombre(){return nombre;}\n",
        "};\n",
        "\n",
        "void ejemplo1(){\n",
        "    stack<int> ls;    \n",
        "    ls.push(15);\n",
        "    ls.push(25);\n",
        "    ls.push(35);\n",
        "    ls.push(45);\n",
        "    ls.push(55);       \n",
        "    while(!ls.empty()){\n",
        "      cout<<ls.top()<<endl;\n",
        "      ls.pop();   \n",
        "    }        \n",
        "}\n",
        "void ejemplo2(){\n",
        "    stack<Virus*> ls;   \n",
        "    ls.push(new Virus(\"Covid\",1));\n",
        "    ls.push(new Virus(\"Influenza\",2));\n",
        "    ls.push(new Virus(\"Colera\",3));     \n",
        "    while(!ls.empty()){\n",
        "      cout<<ls.top()->toString();    \n",
        "      ls.pop();\n",
        "    }    \n",
        "    cout<<ls.size()<<endl;\n",
        "}\n",
        "int main(){\n",
        "    ejemplo2();\n",
        "}"
      ],
      "execution_count": 28,
      "outputs": [
        {
          "output_type": "stream",
          "name": "stdout",
          "text": [
            "Overwriting Pilas.cpp\n"
          ]
        }
      ]
    },
    {
      "cell_type": "code",
      "metadata": {
        "colab": {
          "base_uri": "https://localhost:8080/"
        },
        "id": "kLm4B8gU4Vic",
        "outputId": "403a3c91-52da-4871-ab7c-a16045f572cc"
      },
      "source": [
        "!g++ Pilas.cpp && ./a.out"
      ],
      "execution_count": 29,
      "outputs": [
        {
          "output_type": "stream",
          "name": "stdout",
          "text": [
            "Colera 3\n",
            "Influenza 2\n",
            "Covid 1\n",
            "0\n"
          ]
        }
      ]
    },
    {
      "cell_type": "markdown",
      "metadata": {
        "id": "Pr_dgn8K4wdu"
      },
      "source": [
        "##Tarea académica\n",
        "* Implementar la estructura de datos Pila con uso de templates y lambdas en una lista doblemente enlazada.\n",
        "* Desarrollar el ejercicio anterior con std::queue\n",
        "https://www.cplusplus.com/reference/queue/queue/size/"
      ]
    },
    {
      "cell_type": "code",
      "metadata": {
        "id": "Vhj8j4A54X0g"
      },
      "source": [
        ""
      ],
      "execution_count": null,
      "outputs": []
    }
  ]
}