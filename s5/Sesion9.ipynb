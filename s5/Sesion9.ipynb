{
  "nbformat": 4,
  "nbformat_minor": 0,
  "metadata": {
    "colab": {
      "name": "Sesion9.ipynb",
      "provenance": [],
      "authorship_tag": "ABX9TyOwf1LbkoTQb9zr9EW3v1K2"
    },
    "kernelspec": {
      "name": "python3",
      "display_name": "Python 3"
    },
    "language_info": {
      "name": "python"
    }
  },
  "cells": [
    {
      "cell_type": "code",
      "metadata": {
        "colab": {
          "base_uri": "https://localhost:8080/"
        },
        "id": "gi8XCVWBLw1I",
        "outputId": "2743b5b8-035a-443b-b7dc-fc6394dc2dba"
      },
      "source": [
        "%%writefile listaEnlazada.cpp\n",
        "#include <iostream>\n",
        "#include <cstdlib>\n",
        "#include <functional>\n",
        "using namespace std;\n",
        "template <typename Tipo>\n",
        "struct Nodo{\n",
        "    Tipo elemento;\n",
        "    Nodo<Tipo>* siguiente;\n",
        "    Nodo(Tipo e){elemento=e;siguiente=nullptr;}\n",
        "};\n",
        "template <typename Tipo>\n",
        "class ListaSimple{\n",
        "    Nodo<Tipo>* inicio;\n",
        "    Nodo<Tipo>* fin;\n",
        "    public:\n",
        "    ListaSimple(){\n",
        "        fin=inicio=nullptr;        \n",
        "    }\n",
        "    void insertar(Nodo<Tipo>* n){\n",
        "        //para 0 elementos\n",
        "        if(inicio==nullptr)\n",
        "          inicio=n;\n",
        "        //para 1--m elementos\n",
        "        else\n",
        "        {\n",
        "        Nodo<Tipo>* aux=inicio;\n",
        "        while(aux->siguiente!=nullptr)\n",
        "          aux=aux->siguiente;\n",
        "        aux->siguiente=n;\n",
        "        }\n",
        "    }\n",
        "   /* void insertar(Tipo e){//o(n)\n",
        "        Nodo<Tipo>* nuevo=new Nodo<Tipo>(e);\n",
        "        //para 0 elementos\n",
        "        if(inicio==nullptr)\n",
        "          inicio=nuevo;\n",
        "        //para 1--m elementos\n",
        "        else\n",
        "        {\n",
        "        Nodo<Tipo>* aux=inicio;\n",
        "        while(aux->siguiente!=nullptr)\n",
        "          aux=aux->siguiente;\n",
        "        aux->siguiente=nuevo;\n",
        "        }\n",
        "    }*/\n",
        "    void insertar(Tipo e){    //O(1)    \n",
        "    Nodo<Tipo>* n=new Nodo<Tipo>(e);\n",
        "        if(inicio==nullptr)\n",
        "            inicio=fin=n;\n",
        "        else {\n",
        "          fin->siguiente=n;\n",
        "          fin=n;\n",
        "        }\n",
        "    }\n",
        "  void buscarV1(Tipo va){\n",
        "    Nodo<Tipo>*aux = inicio;\n",
        "    while(aux != nullptr){\n",
        "        if(aux->elemento == va){\n",
        "            cout << \"Elemento encontrado y es el \" <<  va;\n",
        "            break;\n",
        "          }\n",
        "      aux = aux->siguiente;\n",
        "    }\n",
        "    cout<<\"No encontrado\";\n",
        "  }\n",
        "    \n",
        "    bool buscar(Tipo e, function <bool(Tipo, Tipo)> Com){\n",
        "        Nodo<Tipo>* aux=inicio;\n",
        "        while(aux != nullptr)\n",
        "        {\n",
        "            if(Com(aux->elemento, e)) return true;\n",
        "            aux=aux->siguiente;\n",
        "        }\n",
        "        return false;\n",
        "     }\n",
        "    void mostrar(function<void(Tipo)> fMostrar){\n",
        "        Nodo<Tipo>* aux=inicio;\n",
        "        while(aux->siguiente!=nullptr){\n",
        "            //cout<<aux->elemento<<\" \";\n",
        "            fMostrar(aux->elemento);\n",
        "            aux=aux->siguiente;\n",
        "          }\n",
        "            fMostrar(aux->elemento);\n",
        "    }\n",
        "    int cantidad(){\n",
        "        short c=0;\n",
        "        Nodo<Tipo>* aux=inicio;\n",
        "        while(aux!=nullptr){\n",
        "            c++;\n",
        "            aux=aux->siguiente;\n",
        "        }\n",
        "        return c;\n",
        "    }\n",
        "};\n",
        "class Virus{\n",
        "  string nombre;\n",
        "  short idx;\n",
        "  public:\n",
        "  Virus(string nombre,short idx):nombre(nombre),idx(idx){}\n",
        "  string toString(){return nombre+\" \"+to_string(idx)+\"\\n\";}\n",
        "  string getNombre(){return nombre;}\n",
        "};\n",
        "\n",
        "void ejemplo1(){\n",
        "    ListaSimple<int> ls;\n",
        "    /*ls.insertar(new Nodo<int>(15));\n",
        "    ls.insertar(new Nodo<int>(25));\n",
        "    ls.insertar(new Nodo<int>(35));\n",
        "    ls.insertar(new Nodo<int>(45));\n",
        "    ls.insertar(new Nodo<int>(55));*/\n",
        "    ls.insertar(15);\n",
        "    ls.insertar(25);\n",
        "    ls.insertar(35);\n",
        "    ls.insertar(45);\n",
        "    ls.insertar(55);\n",
        "    //ls.buscarV1(25);\n",
        "    cout<<ls.buscar(26, [](int x, int y){return x==y;})<<endl;\n",
        "    ls.mostrar([](int x){cout<<x<<\" \";});\n",
        "}\n",
        "void ejemplo2(){\n",
        "    ListaSimple<Virus*> ls;   \n",
        "    ls.insertar(new Virus(\"Covid\",1));\n",
        "    ls.insertar(new Virus(\"Influenza\",2));\n",
        "    ls.insertar(new Virus(\"Colera\",3)); \n",
        "    //ls.buscarV1(new Virus(\"Colera\",3));\n",
        "    ls.mostrar([](Virus* v){cout<<v->toString();});\n",
        "    cout<<ls.buscar(new Virus(\"Colera\",3),[](Virus* x, Virus* y){return x->getNombre()==y->getNombre();})<<endl;\n",
        "    //cout<<ls.cantidad()<<endl;\n",
        "}\n",
        "int main(){\n",
        "    ejemplo2();\n",
        "}"
      ],
      "execution_count": null,
      "outputs": [
        {
          "output_type": "stream",
          "name": "stdout",
          "text": [
            "Overwriting listaEnlazada.cpp\n"
          ]
        }
      ]
    },
    {
      "cell_type": "code",
      "metadata": {
        "colab": {
          "base_uri": "https://localhost:8080/"
        },
        "id": "7lY8UtrySB2u",
        "outputId": "dba202cc-8a0d-45e7-9849-15589ce3a81d"
      },
      "source": [
        "!g++ listaEnlazada.cpp && ./a.out"
      ],
      "execution_count": null,
      "outputs": [
        {
          "output_type": "stream",
          "name": "stdout",
          "text": [
            "Covid 1\n",
            "Influenza 2\n",
            "Colera 3\n",
            "0\n"
          ]
        }
      ]
    },
    {
      "cell_type": "code",
      "metadata": {
        "id": "KHuTY479SGu4"
      },
      "source": [
        ""
      ],
      "execution_count": null,
      "outputs": []
    }
  ]
}